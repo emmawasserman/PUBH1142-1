{
 "cells": [
  {
   "cell_type": "markdown",
   "metadata": {},
   "source": [
    "# EMMA WASSERMAN PROJECT "
   ]
  },
  {
   "cell_type": "markdown",
   "metadata": {},
   "source": [
    "## Information about my project"
   ]
  },
  {
   "cell_type": "markdown",
   "metadata": {},
   "source": [
    "My project is about efffective harm reduction practices when it comes to youth drug use and safe sex practices. "
   ]
  }
 ],
 "metadata": {
  "kernelspec": {
   "display_name": ".venv",
   "language": "python",
   "name": "python3"
  },
  "language_info": {
   "name": "python",
   "version": "3.8.2"
  }
 },
 "nbformat": 4,
 "nbformat_minor": 2
}
