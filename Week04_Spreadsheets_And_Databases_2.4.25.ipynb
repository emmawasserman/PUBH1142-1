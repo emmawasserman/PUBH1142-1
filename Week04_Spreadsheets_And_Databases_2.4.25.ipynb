{
 "cells": [
  {
   "cell_type": "markdown",
   "metadata": {},
   "source": [
    "# Emma Wasserman Quiz Questions - 2.4.25\n",
    "## ***PUBH 1142*** \n"
   ]
  },
  {
   "cell_type": "markdown",
   "metadata": {},
   "source": [
    "### Health Data Management: Spreadsheets vs. Databases\n",
    "\n",
    "#### What is the difference between a spreadsheet and a database?\n",
    "A spreadsheet is a tool for simple data entry, analysis, and visualization, while a database is designed for managing larger datasets with robust data integrity, security, and querying capabilities.\n",
    "\n",
    "#### What are the advantages and disadvantages of using a spreadsheet for health data management?\n",
    "Advantages: Easy to use, accessible, and good for small datasets. Disadvantages: Limited scalability, prone to errors, and lacks advanced data management features.\n",
    "\n",
    "#### What are the advantages and disadvantages of using a database for health data management?\n",
    "Advantages: Handles large datasets, ensures data integrity, and supports complex queries. Disadvantages: Requires technical expertise and can be more costly to implement and maintain.\n",
    "\n",
    "#### What are some examples of tasks that can be performed using a spreadsheet?\n",
    "Examples: Budget tracking, simple data analysis, and creating charts or graphs.\n",
    "\n",
    "#### What are some examples of tasks that can be performed using a database?\n",
    "Examples: Managing patient records, running complex queries, and ensuring data consistency across large datasets.\n",
    "\n",
    "#### What are some examples of tasks that can be performed using both a spreadsheet and a database?\n",
    "Examples: Data entry, generating reports, and performing basic calculations.\n",
    "\n",
    "#### What are some examples of tasks that can be performed using neither a spreadsheet nor a database?\n",
    "Examples: Real-time data processing, advanced machine learning, and high-frequency trading.\n",
    "\n",
    "#### What are some examples of tasks that can be performed using a spreadsheet but not a database?\n",
    "Examples: Quick ad-hoc analysis, creating pivot tables, and simple financial modeling.\n",
    "\n",
    "#### What are some examples of tasks that can be performed using a database but not a spreadsheet?\n",
    "Examples: Handling concurrent user access, enforcing complex data relationships, and performing large-scale data migrations.\n",
    "\n",
    "#### What are some examples of tasks that can be performed using both a spreadsheet and a database?\n",
    "Examples: Data import/export, data cleaning, and generating summary statistics."
   ]
  }
 ],
 "metadata": {
  "language_info": {
   "name": "python"
  }
 },
 "nbformat": 4,
 "nbformat_minor": 2
}
