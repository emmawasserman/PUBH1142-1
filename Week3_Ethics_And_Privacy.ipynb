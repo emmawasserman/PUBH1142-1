{
 "cells": [
  {
   "cell_type": "markdown",
   "metadata": {},
   "source": [
    "# ETHICS AND PRIVACY QUIZ RESPONSES - *PUBH 1142*"
   ]
  },
  {
   "cell_type": "markdown",
   "metadata": {},
   "source": [
    "## Emma Wasserman 1.28.25"
   ]
  },
  {
   "cell_type": "code",
   "execution_count": 1,
   "metadata": {},
   "outputs": [
    {
     "name": "stdout",
     "output_type": "stream",
     "text": [
      "hello world\n"
     ]
    }
   ],
   "source": [
    "print(\"hello world\")"
   ]
  },
  {
   "cell_type": "markdown",
   "metadata": {},
   "source": [
    "### **Frequently Asked Questions in Public Health Research**\n",
    "\n",
    "#### What is the primary goal of data anonymization?\n",
    "The primary goal of data anonymization is to protect the privacy of individuals by removing or altering personally identifiable information (PII) from datasets, making it impossible to trace the data back to specific individuals.\n",
    "\n",
    "#### What is the Havasupai Tribe case about?\n",
    "The Havasupai Tribe case involves a legal dispute where members of the Havasupai Tribe sued Arizona State University for using their blood samples, originally collected for diabetes research, for other genetic studies without their informed consent.\n",
    "\n",
    "#### What was the largest health data breach in history?\n",
    "The largest health data breach in history occurred in 2015 when Anthem Inc., a health insurance company, experienced a cyberattack that exposed the personal information of nearly 80 million individuals.\n",
    "\n",
    "#### What is the pulse oximeter controversy about?\n",
    "The pulse oximeter controversy revolves around the device's accuracy, particularly its tendency to provide less accurate readings for individuals with darker skin tones, potentially leading to disparities in medical treatment.\n",
    "\n",
    "#### What is the role of an Institutional Review Board (IRB) in research?\n",
    "An Institutional Review Board (IRB) is responsible for reviewing and approving research involving human subjects to ensure ethical standards are met and participants' rights and welfare are protected.\n",
    "\n",
    "#### What is the difference between spreadsheet software and database software for health data management?\n",
    "Spreadsheet software is typically used for simple data entry, analysis, and visualization, while database software is designed for managing larger datasets, offering more robust data integrity, security, and querying capabilities.\n",
    "\n",
    "#### What is a conflict of interest in public health research?\n",
    "A conflict of interest in public health research occurs when a researcher's personal, financial, or professional interests could compromise or appear to compromise their objectivity and integrity in conducting or reporting research.\n",
    "\n",
    "#### What is informed consent in the context of health data collection?\n",
    "Informed consent in health data collection involves obtaining voluntary agreement from participants, after fully informing them about the purpose, methods, risks, and benefits of the research, as well as their rights to withdraw at any time.\n",
    "\n",
    "#### What is data masking in the context of de-identification of health data?\n",
    "Data masking involves altering or obscuring specific data elements within a dataset to protect sensitive information while maintaining the dataset's usability for analysis.\n",
    "\n",
    "#### What is the principle of k-anonymity in the context of de-identification of health data?\n",
    "The principle of k-anonymity ensures that each individual in a dataset cannot be distinguished from at least k-1 other individuals based on certain identifying attributes, thereby protecting their privacy.\n",
    "\n",
    "#### What is the main concern about conflicts of interest in public health research?\n",
    "The main concern about conflicts of interest in public health research is that they can undermine the credibility and integrity of the research, leading to biased results and loss of public trust.\n",
    "\n",
    "#### What is the first step in managing conflicts of interest in public health research?\n",
    "The first step in managing conflicts of interest in public health research is to identify and disclose any potential conflicts to relevant authorities or oversight bodies.\n",
    "\n",
    "#### What is the role of independent oversight in managing conflicts of interest in public health research?\n",
    "Independent oversight helps ensure that conflicts of interest are managed appropriately by providing unbiased review and recommendations, thereby maintaining the integrity of the research process.\n",
    "\n",
    "#### What is one strategy for mitigating conflicts of interest in public health research?\n",
    "One strategy for mitigating conflicts of interest is to establish clear policies and procedures for disclosure, review, and management of potential conflicts, including recusal from decision-making processes when necessary.\n",
    "\n",
    "#### What is the potential impact of not properly managing conflicts of interest in public health research?\n",
    "Failing to properly manage conflicts of interest can lead to biased research outcomes, loss of credibility, legal repercussions, and diminished public trust in the research and its findings."
   ]
  },
  {
   "cell_type": "markdown",
   "metadata": {},
   "source": []
  }
 ],
 "metadata": {
  "kernelspec": {
   "display_name": ".venv",
   "language": "python",
   "name": "python3"
  },
  "language_info": {
   "codemirror_mode": {
    "name": "ipython",
    "version": 3
   },
   "file_extension": ".py",
   "mimetype": "text/x-python",
   "name": "python",
   "nbconvert_exporter": "python",
   "pygments_lexer": "ipython3",
   "version": "3.8.2"
  }
 },
 "nbformat": 4,
 "nbformat_minor": 2
}
