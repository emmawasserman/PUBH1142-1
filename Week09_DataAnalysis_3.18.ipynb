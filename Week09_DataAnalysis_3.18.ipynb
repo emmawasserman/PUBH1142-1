{
 "cells": [
  {
   "cell_type": "markdown",
   "metadata": {},
   "source": [
    "# Emma Wasserman -- March 18, 2025 \n",
    "> ## Working with Data/Exploratory Data Analysis"
   ]
  },
  {
   "cell_type": "code",
   "execution_count": 126,
   "metadata": {},
   "outputs": [],
   "source": [
    "import numpy as numpy\n",
    "import pandas as pandas"
   ]
  },
  {
   "cell_type": "code",
   "execution_count": 127,
   "metadata": {},
   "outputs": [
    {
     "name": "stdout",
     "output_type": "stream",
     "text": [
      "Requirement already satisfied: pandas in ./.venv/lib/python3.8/site-packages (2.0.3)\n",
      "Requirement already satisfied: python-dateutil>=2.8.2 in ./.venv/lib/python3.8/site-packages (from pandas) (2.9.0.post0)\n",
      "Requirement already satisfied: pytz>=2020.1 in ./.venv/lib/python3.8/site-packages (from pandas) (2025.1)\n",
      "Requirement already satisfied: tzdata>=2022.1 in ./.venv/lib/python3.8/site-packages (from pandas) (2025.1)\n",
      "Requirement already satisfied: numpy>=1.20.3 in ./.venv/lib/python3.8/site-packages (from pandas) (1.24.4)\n",
      "Requirement already satisfied: six>=1.5 in ./.venv/lib/python3.8/site-packages (from python-dateutil>=2.8.2->pandas) (1.17.0)\n",
      "\n",
      "\u001b[1m[\u001b[0m\u001b[34;49mnotice\u001b[0m\u001b[1;39;49m]\u001b[0m\u001b[39;49m A new release of pip is available: \u001b[0m\u001b[31;49m25.0\u001b[0m\u001b[39;49m -> \u001b[0m\u001b[32;49m25.0.1\u001b[0m\n",
      "\u001b[1m[\u001b[0m\u001b[34;49mnotice\u001b[0m\u001b[1;39;49m]\u001b[0m\u001b[39;49m To update, run: \u001b[0m\u001b[32;49mpip install --upgrade pip\u001b[0m\n",
      "Note: you may need to restart the kernel to use updated packages.\n"
     ]
    }
   ],
   "source": [
    "pip install pandas"
   ]
  },
  {
   "cell_type": "markdown",
   "metadata": {},
   "source": [
    "# Initial Data Import\n",
    "> ### Performance rates on frequently reported health care quality measures in the CMS Medicaid/CHIP Child and Adult Core Sets, for FFY 2023 reporting.\n"
   ]
  },
  {
   "cell_type": "code",
   "execution_count": 3,
   "metadata": {},
   "outputs": [],
   "source": [
    "# Create a string object assigned to the variable url\n",
    "url = \"https://data.medicaid.gov/sites/default/files/uploaded_resources/2023-child-and-adult-health-care-quality-measures.csv\""
   ]
  },
  {
   "cell_type": "code",
   "execution_count": 4,
   "metadata": {},
   "outputs": [],
   "source": [
    "# Import the data from the URL as a pandas Dataframe assign it to the variable df\n",
    "# object assignd to the variable df\n",
    "df = pandas.read_csv(url)"
   ]
  },
  {
   "cell_type": "code",
   "execution_count": 5,
   "metadata": {},
   "outputs": [
    {
     "data": {
      "application/vnd.microsoft.datawrangler.viewer.v0+json": {
       "columns": [
        {
         "name": "index",
         "rawType": "int64",
         "type": "integer"
        },
        {
         "name": "State",
         "rawType": "object",
         "type": "string"
        },
        {
         "name": "Domain",
         "rawType": "object",
         "type": "string"
        },
        {
         "name": "Reporting Program",
         "rawType": "object",
         "type": "string"
        },
        {
         "name": "Measure Name",
         "rawType": "object",
         "type": "string"
        },
        {
         "name": "Measure Abbreviation",
         "rawType": "object",
         "type": "string"
        },
        {
         "name": "Measure Type",
         "rawType": "object",
         "type": "string"
        },
        {
         "name": "Rate Definition",
         "rawType": "object",
         "type": "string"
        },
        {
         "name": "Core Set Year",
         "rawType": "int64",
         "type": "integer"
        },
        {
         "name": "Population",
         "rawType": "object",
         "type": "string"
        },
        {
         "name": "Methodology",
         "rawType": "object",
         "type": "string"
        },
        {
         "name": "State Rate",
         "rawType": "object",
         "type": "string"
        },
        {
         "name": "Number of States Reporting",
         "rawType": "int64",
         "type": "integer"
        },
        {
         "name": "Median",
         "rawType": "float64",
         "type": "float"
        },
        {
         "name": "Bottom Quartile",
         "rawType": "float64",
         "type": "float"
        },
        {
         "name": "Top Quartile",
         "rawType": "float64",
         "type": "float"
        },
        {
         "name": "Notes",
         "rawType": "object",
         "type": "unknown"
        },
        {
         "name": "Source",
         "rawType": "object",
         "type": "string"
        },
        {
         "name": "State-Specific Comments",
         "rawType": "object",
         "type": "string"
        },
        {
         "name": "Rate Used in Calculating State Mean and Median",
         "rawType": "object",
         "type": "string"
        }
       ],
       "conversionMethod": "pd.DataFrame",
       "ref": "c4d1f116-f51d-4562-a5fd-7fa28db9cfcc",
       "rows": [
        [
         "0",
         "Alabama",
         "Behavioral Health Care",
         "Child Core Set",
         "Follow-Up After Emergency Department Visit for Mental Illness: Ages 6 to 17",
         "FUM-CH",
         "Higher rates are better for this measure",
         "Percentage of Emergency Department (ED) Visits for Mental Illness or Intentional Self-Harm with a Follow-Up Visit Within 7 Days of the ED Visit: Ages 6 to 17",
         "2023",
         "Medicaid only",
         "Administrative",
         "49.9",
         "48",
         "51.5",
         "42.5",
         "60.9",
         null,
         "Mathematica analysis of the Quality Measure Reporting (QMR) system reports for the 2023 Core Set as of May 16, 2024.",
         "Medicaid rates include FFS and PCCM populations.",
         "Yes"
        ],
        [
         "1",
         "Alabama",
         "Behavioral Health Care",
         "Child Core Set",
         "Follow-Up After Emergency Department Visit for Mental Illness: Ages 6 to 17",
         "FUM-CH",
         "Higher rates are better for this measure",
         "Percentage of Emergency Department (ED) Visits for Mental Illness or Intentional Self-Harm with a Follow-Up Visit Within 30 Days of the ED Visit: Ages 6 to 17",
         "2023",
         "Medicaid only",
         "Administrative",
         "65.6",
         "48",
         "69.6",
         "61.8",
         "76.0",
         null,
         "Mathematica analysis of the Quality Measure Reporting (QMR) system reports for the 2023 Core Set as of May 16, 2024.",
         "Medicaid rates include FFS and PCCM populations.",
         "Yes"
        ],
        [
         "2",
         "Alabama",
         "Behavioral Health Care",
         "Child Core Set",
         "Follow-Up After Emergency Department Visit for Mental Illness: Ages 6 to 17",
         "FUM-CH",
         "Higher rates are better for this measure",
         "Percentage of Emergency Department (ED) Visits for Mental Illness or Intentional Self-Harm with a Follow-Up Visit Within 7 Days of the ED Visit: Ages 6 to 17",
         "2023",
         "CHIP only",
         "Administrative",
         "49.3",
         "48",
         "51.5",
         "42.5",
         "60.9",
         null,
         "Mathematica analysis of the Quality Measure Reporting (QMR) system reports for the 2023 Core Set as of May 16, 2024.",
         "CHIP rates include FFS population. The state described the \"other\" data source used to calculate the measure as the following: \"Separate CHIP claims data.\"",
         "No"
        ],
        [
         "3",
         "Alabama",
         "Behavioral Health Care",
         "Child Core Set",
         "Follow-Up After Emergency Department Visit for Mental Illness: Ages 6 to 17",
         "FUM-CH",
         "Higher rates are better for this measure",
         "Percentage of Emergency Department (ED) Visits for Mental Illness or Intentional Self-Harm with a Follow-Up Visit Within 30 Days of the ED Visit: Ages 6 to 17",
         "2023",
         "CHIP only",
         "Administrative",
         "64.8",
         "48",
         "69.6",
         "61.8",
         "76.0",
         null,
         "Mathematica analysis of the Quality Measure Reporting (QMR) system reports for the 2023 Core Set as of May 16, 2024.",
         "CHIP rates include FFS population. The state described the \"other\" data source used to calculate the measure as the following: \"Separate CHIP claims data.\"",
         "No"
        ],
        [
         "4",
         "Alabama",
         "Behavioral Health Care",
         "Child Core Set",
         "Follow-Up After Emergency Department Visit for Substance Use: Ages 13 to 17",
         "FUA-CH",
         "Higher rates are better for this measure",
         "Percentage of Emergency Department (ED) Visits for Substance Use Disorder (SUD) or Drug Overdose with a Follow-Up Visit Within 7 Days of the ED Visit: Ages 13 to 17",
         "2023",
         "Medicaid only",
         "Administrative",
         "17.9",
         "41",
         "22.8",
         "19.5",
         "28.3",
         null,
         "Mathematica analysis of the Quality Measure Reporting (QMR) system reports for the 2023 Core Set as of May 16, 2024.",
         "Medicaid rates include FFS and PCCM populations. Rates were audited or validated.",
         "Yes"
        ]
       ],
       "shape": {
        "columns": 19,
        "rows": 5
       }
      },
      "text/html": [
       "<div>\n",
       "<style scoped>\n",
       "    .dataframe tbody tr th:only-of-type {\n",
       "        vertical-align: middle;\n",
       "    }\n",
       "\n",
       "    .dataframe tbody tr th {\n",
       "        vertical-align: top;\n",
       "    }\n",
       "\n",
       "    .dataframe thead th {\n",
       "        text-align: right;\n",
       "    }\n",
       "</style>\n",
       "<table border=\"1\" class=\"dataframe\">\n",
       "  <thead>\n",
       "    <tr style=\"text-align: right;\">\n",
       "      <th></th>\n",
       "      <th>State</th>\n",
       "      <th>Domain</th>\n",
       "      <th>Reporting Program</th>\n",
       "      <th>Measure Name</th>\n",
       "      <th>Measure Abbreviation</th>\n",
       "      <th>Measure Type</th>\n",
       "      <th>Rate Definition</th>\n",
       "      <th>Core Set Year</th>\n",
       "      <th>Population</th>\n",
       "      <th>Methodology</th>\n",
       "      <th>State Rate</th>\n",
       "      <th>Number of States Reporting</th>\n",
       "      <th>Median</th>\n",
       "      <th>Bottom Quartile</th>\n",
       "      <th>Top Quartile</th>\n",
       "      <th>Notes</th>\n",
       "      <th>Source</th>\n",
       "      <th>State-Specific Comments</th>\n",
       "      <th>Rate Used in Calculating State Mean and Median</th>\n",
       "    </tr>\n",
       "  </thead>\n",
       "  <tbody>\n",
       "    <tr>\n",
       "      <th>0</th>\n",
       "      <td>Alabama</td>\n",
       "      <td>Behavioral Health Care</td>\n",
       "      <td>Child Core Set</td>\n",
       "      <td>Follow-Up After Emergency Department Visit for...</td>\n",
       "      <td>FUM-CH</td>\n",
       "      <td>Higher rates are better for this measure</td>\n",
       "      <td>Percentage of Emergency Department (ED) Visits...</td>\n",
       "      <td>2023</td>\n",
       "      <td>Medicaid only</td>\n",
       "      <td>Administrative</td>\n",
       "      <td>49.9</td>\n",
       "      <td>48</td>\n",
       "      <td>51.5</td>\n",
       "      <td>42.5</td>\n",
       "      <td>60.9</td>\n",
       "      <td>NaN</td>\n",
       "      <td>Mathematica analysis of the Quality Measure Re...</td>\n",
       "      <td>Medicaid rates include FFS and PCCM populations.</td>\n",
       "      <td>Yes</td>\n",
       "    </tr>\n",
       "    <tr>\n",
       "      <th>1</th>\n",
       "      <td>Alabama</td>\n",
       "      <td>Behavioral Health Care</td>\n",
       "      <td>Child Core Set</td>\n",
       "      <td>Follow-Up After Emergency Department Visit for...</td>\n",
       "      <td>FUM-CH</td>\n",
       "      <td>Higher rates are better for this measure</td>\n",
       "      <td>Percentage of Emergency Department (ED) Visits...</td>\n",
       "      <td>2023</td>\n",
       "      <td>Medicaid only</td>\n",
       "      <td>Administrative</td>\n",
       "      <td>65.6</td>\n",
       "      <td>48</td>\n",
       "      <td>69.6</td>\n",
       "      <td>61.8</td>\n",
       "      <td>76.0</td>\n",
       "      <td>NaN</td>\n",
       "      <td>Mathematica analysis of the Quality Measure Re...</td>\n",
       "      <td>Medicaid rates include FFS and PCCM populations.</td>\n",
       "      <td>Yes</td>\n",
       "    </tr>\n",
       "    <tr>\n",
       "      <th>2</th>\n",
       "      <td>Alabama</td>\n",
       "      <td>Behavioral Health Care</td>\n",
       "      <td>Child Core Set</td>\n",
       "      <td>Follow-Up After Emergency Department Visit for...</td>\n",
       "      <td>FUM-CH</td>\n",
       "      <td>Higher rates are better for this measure</td>\n",
       "      <td>Percentage of Emergency Department (ED) Visits...</td>\n",
       "      <td>2023</td>\n",
       "      <td>CHIP only</td>\n",
       "      <td>Administrative</td>\n",
       "      <td>49.3</td>\n",
       "      <td>48</td>\n",
       "      <td>51.5</td>\n",
       "      <td>42.5</td>\n",
       "      <td>60.9</td>\n",
       "      <td>NaN</td>\n",
       "      <td>Mathematica analysis of the Quality Measure Re...</td>\n",
       "      <td>CHIP rates include FFS population. The state d...</td>\n",
       "      <td>No</td>\n",
       "    </tr>\n",
       "    <tr>\n",
       "      <th>3</th>\n",
       "      <td>Alabama</td>\n",
       "      <td>Behavioral Health Care</td>\n",
       "      <td>Child Core Set</td>\n",
       "      <td>Follow-Up After Emergency Department Visit for...</td>\n",
       "      <td>FUM-CH</td>\n",
       "      <td>Higher rates are better for this measure</td>\n",
       "      <td>Percentage of Emergency Department (ED) Visits...</td>\n",
       "      <td>2023</td>\n",
       "      <td>CHIP only</td>\n",
       "      <td>Administrative</td>\n",
       "      <td>64.8</td>\n",
       "      <td>48</td>\n",
       "      <td>69.6</td>\n",
       "      <td>61.8</td>\n",
       "      <td>76.0</td>\n",
       "      <td>NaN</td>\n",
       "      <td>Mathematica analysis of the Quality Measure Re...</td>\n",
       "      <td>CHIP rates include FFS population. The state d...</td>\n",
       "      <td>No</td>\n",
       "    </tr>\n",
       "    <tr>\n",
       "      <th>4</th>\n",
       "      <td>Alabama</td>\n",
       "      <td>Behavioral Health Care</td>\n",
       "      <td>Child Core Set</td>\n",
       "      <td>Follow-Up After Emergency Department Visit for...</td>\n",
       "      <td>FUA-CH</td>\n",
       "      <td>Higher rates are better for this measure</td>\n",
       "      <td>Percentage of Emergency Department (ED) Visits...</td>\n",
       "      <td>2023</td>\n",
       "      <td>Medicaid only</td>\n",
       "      <td>Administrative</td>\n",
       "      <td>17.9</td>\n",
       "      <td>41</td>\n",
       "      <td>22.8</td>\n",
       "      <td>19.5</td>\n",
       "      <td>28.3</td>\n",
       "      <td>NaN</td>\n",
       "      <td>Mathematica analysis of the Quality Measure Re...</td>\n",
       "      <td>Medicaid rates include FFS and PCCM population...</td>\n",
       "      <td>Yes</td>\n",
       "    </tr>\n",
       "  </tbody>\n",
       "</table>\n",
       "</div>"
      ],
      "text/plain": [
       "     State                  Domain Reporting Program  \\\n",
       "0  Alabama  Behavioral Health Care    Child Core Set   \n",
       "1  Alabama  Behavioral Health Care    Child Core Set   \n",
       "2  Alabama  Behavioral Health Care    Child Core Set   \n",
       "3  Alabama  Behavioral Health Care    Child Core Set   \n",
       "4  Alabama  Behavioral Health Care    Child Core Set   \n",
       "\n",
       "                                        Measure Name Measure Abbreviation  \\\n",
       "0  Follow-Up After Emergency Department Visit for...               FUM-CH   \n",
       "1  Follow-Up After Emergency Department Visit for...               FUM-CH   \n",
       "2  Follow-Up After Emergency Department Visit for...               FUM-CH   \n",
       "3  Follow-Up After Emergency Department Visit for...               FUM-CH   \n",
       "4  Follow-Up After Emergency Department Visit for...               FUA-CH   \n",
       "\n",
       "                               Measure Type  \\\n",
       "0  Higher rates are better for this measure   \n",
       "1  Higher rates are better for this measure   \n",
       "2  Higher rates are better for this measure   \n",
       "3  Higher rates are better for this measure   \n",
       "4  Higher rates are better for this measure   \n",
       "\n",
       "                                     Rate Definition  Core Set Year  \\\n",
       "0  Percentage of Emergency Department (ED) Visits...           2023   \n",
       "1  Percentage of Emergency Department (ED) Visits...           2023   \n",
       "2  Percentage of Emergency Department (ED) Visits...           2023   \n",
       "3  Percentage of Emergency Department (ED) Visits...           2023   \n",
       "4  Percentage of Emergency Department (ED) Visits...           2023   \n",
       "\n",
       "      Population     Methodology State Rate  Number of States Reporting  \\\n",
       "0  Medicaid only  Administrative       49.9                          48   \n",
       "1  Medicaid only  Administrative       65.6                          48   \n",
       "2      CHIP only  Administrative       49.3                          48   \n",
       "3      CHIP only  Administrative       64.8                          48   \n",
       "4  Medicaid only  Administrative       17.9                          41   \n",
       "\n",
       "   Median  Bottom Quartile  Top Quartile Notes  \\\n",
       "0    51.5             42.5          60.9   NaN   \n",
       "1    69.6             61.8          76.0   NaN   \n",
       "2    51.5             42.5          60.9   NaN   \n",
       "3    69.6             61.8          76.0   NaN   \n",
       "4    22.8             19.5          28.3   NaN   \n",
       "\n",
       "                                              Source  \\\n",
       "0  Mathematica analysis of the Quality Measure Re...   \n",
       "1  Mathematica analysis of the Quality Measure Re...   \n",
       "2  Mathematica analysis of the Quality Measure Re...   \n",
       "3  Mathematica analysis of the Quality Measure Re...   \n",
       "4  Mathematica analysis of the Quality Measure Re...   \n",
       "\n",
       "                             State-Specific Comments  \\\n",
       "0   Medicaid rates include FFS and PCCM populations.   \n",
       "1   Medicaid rates include FFS and PCCM populations.   \n",
       "2  CHIP rates include FFS population. The state d...   \n",
       "3  CHIP rates include FFS population. The state d...   \n",
       "4  Medicaid rates include FFS and PCCM population...   \n",
       "\n",
       "  Rate Used in Calculating State Mean and Median  \n",
       "0                                            Yes  \n",
       "1                                            Yes  \n",
       "2                                             No  \n",
       "3                                             No  \n",
       "4                                            Yes  "
      ]
     },
     "execution_count": 5,
     "metadata": {},
     "output_type": "execute_result"
    }
   ],
   "source": [
    "df.head()"
   ]
  },
  {
   "cell_type": "code",
   "execution_count": 47,
   "metadata": {},
   "outputs": [
    {
     "data": {
      "application/vnd.microsoft.datawrangler.viewer.v0+json": {
       "columns": [
        {
         "name": "index",
         "rawType": "int64",
         "type": "integer"
        },
        {
         "name": "State",
         "rawType": "object",
         "type": "string"
        },
        {
         "name": "Domain",
         "rawType": "object",
         "type": "string"
        },
        {
         "name": "Reporting Program",
         "rawType": "object",
         "type": "string"
        },
        {
         "name": "Measure Name",
         "rawType": "object",
         "type": "string"
        },
        {
         "name": "Measure Abbreviation",
         "rawType": "object",
         "type": "string"
        },
        {
         "name": "Measure Type",
         "rawType": "object",
         "type": "string"
        },
        {
         "name": "Rate Definition",
         "rawType": "object",
         "type": "string"
        },
        {
         "name": "Core Set Year",
         "rawType": "int64",
         "type": "integer"
        },
        {
         "name": "Population",
         "rawType": "object",
         "type": "string"
        },
        {
         "name": "Methodology",
         "rawType": "object",
         "type": "string"
        },
        {
         "name": "State_Rate",
         "rawType": "float64",
         "type": "float"
        },
        {
         "name": "Number of States Reporting",
         "rawType": "int64",
         "type": "integer"
        },
        {
         "name": "Median",
         "rawType": "float64",
         "type": "float"
        },
        {
         "name": "Bottom Quartile",
         "rawType": "float64",
         "type": "float"
        },
        {
         "name": "Top Quartile",
         "rawType": "float64",
         "type": "float"
        },
        {
         "name": "Notes",
         "rawType": "object",
         "type": "unknown"
        },
        {
         "name": "Source",
         "rawType": "object",
         "type": "string"
        },
        {
         "name": "State-Specific Comments",
         "rawType": "object",
         "type": "string"
        },
        {
         "name": "Rate Used in Calculating State Mean and Median",
         "rawType": "object",
         "type": "string"
        }
       ],
       "conversionMethod": "pd.DataFrame",
       "ref": "d656b59c-58b4-4ba5-a72a-abe443b0176f",
       "rows": [
        [
         "0",
         "Alabama",
         "Behavioral Health Care",
         "Child Core Set",
         "Follow-Up After Emergency Department Visit for Mental Illness: Ages 6 to 17",
         "FUM-CH",
         "Higher rates are better for this measure",
         "Percentage of Emergency Department (ED) Visits for Mental Illness or Intentional Self-Harm with a Follow-Up Visit Within 7 Days of the ED Visit: Ages 6 to 17",
         "2023",
         "Medicaid only",
         "Administrative",
         "49.9",
         "48",
         "51.5",
         "42.5",
         "60.9",
         null,
         "Mathematica analysis of the Quality Measure Reporting (QMR) system reports for the 2023 Core Set as of May 16, 2024.",
         "Medicaid rates include FFS and PCCM populations.",
         "Yes"
        ],
        [
         "1",
         "Alabama",
         "Behavioral Health Care",
         "Child Core Set",
         "Follow-Up After Emergency Department Visit for Mental Illness: Ages 6 to 17",
         "FUM-CH",
         "Higher rates are better for this measure",
         "Percentage of Emergency Department (ED) Visits for Mental Illness or Intentional Self-Harm with a Follow-Up Visit Within 30 Days of the ED Visit: Ages 6 to 17",
         "2023",
         "Medicaid only",
         "Administrative",
         "65.6",
         "48",
         "69.6",
         "61.8",
         "76.0",
         null,
         "Mathematica analysis of the Quality Measure Reporting (QMR) system reports for the 2023 Core Set as of May 16, 2024.",
         "Medicaid rates include FFS and PCCM populations.",
         "Yes"
        ],
        [
         "2",
         "Alabama",
         "Behavioral Health Care",
         "Child Core Set",
         "Follow-Up After Emergency Department Visit for Mental Illness: Ages 6 to 17",
         "FUM-CH",
         "Higher rates are better for this measure",
         "Percentage of Emergency Department (ED) Visits for Mental Illness or Intentional Self-Harm with a Follow-Up Visit Within 7 Days of the ED Visit: Ages 6 to 17",
         "2023",
         "CHIP only",
         "Administrative",
         "49.3",
         "48",
         "51.5",
         "42.5",
         "60.9",
         null,
         "Mathematica analysis of the Quality Measure Reporting (QMR) system reports for the 2023 Core Set as of May 16, 2024.",
         "CHIP rates include FFS population. The state described the \"other\" data source used to calculate the measure as the following: \"Separate CHIP claims data.\"",
         "No"
        ],
        [
         "3",
         "Alabama",
         "Behavioral Health Care",
         "Child Core Set",
         "Follow-Up After Emergency Department Visit for Mental Illness: Ages 6 to 17",
         "FUM-CH",
         "Higher rates are better for this measure",
         "Percentage of Emergency Department (ED) Visits for Mental Illness or Intentional Self-Harm with a Follow-Up Visit Within 30 Days of the ED Visit: Ages 6 to 17",
         "2023",
         "CHIP only",
         "Administrative",
         "64.8",
         "48",
         "69.6",
         "61.8",
         "76.0",
         null,
         "Mathematica analysis of the Quality Measure Reporting (QMR) system reports for the 2023 Core Set as of May 16, 2024.",
         "CHIP rates include FFS population. The state described the \"other\" data source used to calculate the measure as the following: \"Separate CHIP claims data.\"",
         "No"
        ],
        [
         "4",
         "Alabama",
         "Behavioral Health Care",
         "Child Core Set",
         "Follow-Up After Emergency Department Visit for Substance Use: Ages 13 to 17",
         "FUA-CH",
         "Higher rates are better for this measure",
         "Percentage of Emergency Department (ED) Visits for Substance Use Disorder (SUD) or Drug Overdose with a Follow-Up Visit Within 7 Days of the ED Visit: Ages 13 to 17",
         "2023",
         "Medicaid only",
         "Administrative",
         "17.9",
         "41",
         "22.8",
         "19.5",
         "28.3",
         null,
         "Mathematica analysis of the Quality Measure Reporting (QMR) system reports for the 2023 Core Set as of May 16, 2024.",
         "Medicaid rates include FFS and PCCM populations. Rates were audited or validated.",
         "Yes"
        ]
       ],
       "shape": {
        "columns": 19,
        "rows": 5
       }
      },
      "text/html": [
       "<div>\n",
       "<style scoped>\n",
       "    .dataframe tbody tr th:only-of-type {\n",
       "        vertical-align: middle;\n",
       "    }\n",
       "\n",
       "    .dataframe tbody tr th {\n",
       "        vertical-align: top;\n",
       "    }\n",
       "\n",
       "    .dataframe thead th {\n",
       "        text-align: right;\n",
       "    }\n",
       "</style>\n",
       "<table border=\"1\" class=\"dataframe\">\n",
       "  <thead>\n",
       "    <tr style=\"text-align: right;\">\n",
       "      <th></th>\n",
       "      <th>State</th>\n",
       "      <th>Domain</th>\n",
       "      <th>Reporting Program</th>\n",
       "      <th>Measure Name</th>\n",
       "      <th>Measure Abbreviation</th>\n",
       "      <th>Measure Type</th>\n",
       "      <th>Rate Definition</th>\n",
       "      <th>Core Set Year</th>\n",
       "      <th>Population</th>\n",
       "      <th>Methodology</th>\n",
       "      <th>State_Rate</th>\n",
       "      <th>Number of States Reporting</th>\n",
       "      <th>Median</th>\n",
       "      <th>Bottom Quartile</th>\n",
       "      <th>Top Quartile</th>\n",
       "      <th>Notes</th>\n",
       "      <th>Source</th>\n",
       "      <th>State-Specific Comments</th>\n",
       "      <th>Rate Used in Calculating State Mean and Median</th>\n",
       "    </tr>\n",
       "  </thead>\n",
       "  <tbody>\n",
       "    <tr>\n",
       "      <th>0</th>\n",
       "      <td>Alabama</td>\n",
       "      <td>Behavioral Health Care</td>\n",
       "      <td>Child Core Set</td>\n",
       "      <td>Follow-Up After Emergency Department Visit for...</td>\n",
       "      <td>FUM-CH</td>\n",
       "      <td>Higher rates are better for this measure</td>\n",
       "      <td>Percentage of Emergency Department (ED) Visits...</td>\n",
       "      <td>2023</td>\n",
       "      <td>Medicaid only</td>\n",
       "      <td>Administrative</td>\n",
       "      <td>49.9</td>\n",
       "      <td>48</td>\n",
       "      <td>51.5</td>\n",
       "      <td>42.5</td>\n",
       "      <td>60.9</td>\n",
       "      <td>NaN</td>\n",
       "      <td>Mathematica analysis of the Quality Measure Re...</td>\n",
       "      <td>Medicaid rates include FFS and PCCM populations.</td>\n",
       "      <td>Yes</td>\n",
       "    </tr>\n",
       "    <tr>\n",
       "      <th>1</th>\n",
       "      <td>Alabama</td>\n",
       "      <td>Behavioral Health Care</td>\n",
       "      <td>Child Core Set</td>\n",
       "      <td>Follow-Up After Emergency Department Visit for...</td>\n",
       "      <td>FUM-CH</td>\n",
       "      <td>Higher rates are better for this measure</td>\n",
       "      <td>Percentage of Emergency Department (ED) Visits...</td>\n",
       "      <td>2023</td>\n",
       "      <td>Medicaid only</td>\n",
       "      <td>Administrative</td>\n",
       "      <td>65.6</td>\n",
       "      <td>48</td>\n",
       "      <td>69.6</td>\n",
       "      <td>61.8</td>\n",
       "      <td>76.0</td>\n",
       "      <td>NaN</td>\n",
       "      <td>Mathematica analysis of the Quality Measure Re...</td>\n",
       "      <td>Medicaid rates include FFS and PCCM populations.</td>\n",
       "      <td>Yes</td>\n",
       "    </tr>\n",
       "    <tr>\n",
       "      <th>2</th>\n",
       "      <td>Alabama</td>\n",
       "      <td>Behavioral Health Care</td>\n",
       "      <td>Child Core Set</td>\n",
       "      <td>Follow-Up After Emergency Department Visit for...</td>\n",
       "      <td>FUM-CH</td>\n",
       "      <td>Higher rates are better for this measure</td>\n",
       "      <td>Percentage of Emergency Department (ED) Visits...</td>\n",
       "      <td>2023</td>\n",
       "      <td>CHIP only</td>\n",
       "      <td>Administrative</td>\n",
       "      <td>49.3</td>\n",
       "      <td>48</td>\n",
       "      <td>51.5</td>\n",
       "      <td>42.5</td>\n",
       "      <td>60.9</td>\n",
       "      <td>NaN</td>\n",
       "      <td>Mathematica analysis of the Quality Measure Re...</td>\n",
       "      <td>CHIP rates include FFS population. The state d...</td>\n",
       "      <td>No</td>\n",
       "    </tr>\n",
       "    <tr>\n",
       "      <th>3</th>\n",
       "      <td>Alabama</td>\n",
       "      <td>Behavioral Health Care</td>\n",
       "      <td>Child Core Set</td>\n",
       "      <td>Follow-Up After Emergency Department Visit for...</td>\n",
       "      <td>FUM-CH</td>\n",
       "      <td>Higher rates are better for this measure</td>\n",
       "      <td>Percentage of Emergency Department (ED) Visits...</td>\n",
       "      <td>2023</td>\n",
       "      <td>CHIP only</td>\n",
       "      <td>Administrative</td>\n",
       "      <td>64.8</td>\n",
       "      <td>48</td>\n",
       "      <td>69.6</td>\n",
       "      <td>61.8</td>\n",
       "      <td>76.0</td>\n",
       "      <td>NaN</td>\n",
       "      <td>Mathematica analysis of the Quality Measure Re...</td>\n",
       "      <td>CHIP rates include FFS population. The state d...</td>\n",
       "      <td>No</td>\n",
       "    </tr>\n",
       "    <tr>\n",
       "      <th>4</th>\n",
       "      <td>Alabama</td>\n",
       "      <td>Behavioral Health Care</td>\n",
       "      <td>Child Core Set</td>\n",
       "      <td>Follow-Up After Emergency Department Visit for...</td>\n",
       "      <td>FUA-CH</td>\n",
       "      <td>Higher rates are better for this measure</td>\n",
       "      <td>Percentage of Emergency Department (ED) Visits...</td>\n",
       "      <td>2023</td>\n",
       "      <td>Medicaid only</td>\n",
       "      <td>Administrative</td>\n",
       "      <td>17.9</td>\n",
       "      <td>41</td>\n",
       "      <td>22.8</td>\n",
       "      <td>19.5</td>\n",
       "      <td>28.3</td>\n",
       "      <td>NaN</td>\n",
       "      <td>Mathematica analysis of the Quality Measure Re...</td>\n",
       "      <td>Medicaid rates include FFS and PCCM population...</td>\n",
       "      <td>Yes</td>\n",
       "    </tr>\n",
       "  </tbody>\n",
       "</table>\n",
       "</div>"
      ],
      "text/plain": [
       "     State                  Domain Reporting Program  \\\n",
       "0  Alabama  Behavioral Health Care    Child Core Set   \n",
       "1  Alabama  Behavioral Health Care    Child Core Set   \n",
       "2  Alabama  Behavioral Health Care    Child Core Set   \n",
       "3  Alabama  Behavioral Health Care    Child Core Set   \n",
       "4  Alabama  Behavioral Health Care    Child Core Set   \n",
       "\n",
       "                                        Measure Name Measure Abbreviation  \\\n",
       "0  Follow-Up After Emergency Department Visit for...               FUM-CH   \n",
       "1  Follow-Up After Emergency Department Visit for...               FUM-CH   \n",
       "2  Follow-Up After Emergency Department Visit for...               FUM-CH   \n",
       "3  Follow-Up After Emergency Department Visit for...               FUM-CH   \n",
       "4  Follow-Up After Emergency Department Visit for...               FUA-CH   \n",
       "\n",
       "                               Measure Type  \\\n",
       "0  Higher rates are better for this measure   \n",
       "1  Higher rates are better for this measure   \n",
       "2  Higher rates are better for this measure   \n",
       "3  Higher rates are better for this measure   \n",
       "4  Higher rates are better for this measure   \n",
       "\n",
       "                                     Rate Definition  Core Set Year  \\\n",
       "0  Percentage of Emergency Department (ED) Visits...           2023   \n",
       "1  Percentage of Emergency Department (ED) Visits...           2023   \n",
       "2  Percentage of Emergency Department (ED) Visits...           2023   \n",
       "3  Percentage of Emergency Department (ED) Visits...           2023   \n",
       "4  Percentage of Emergency Department (ED) Visits...           2023   \n",
       "\n",
       "      Population     Methodology  State_Rate  Number of States Reporting  \\\n",
       "0  Medicaid only  Administrative        49.9                          48   \n",
       "1  Medicaid only  Administrative        65.6                          48   \n",
       "2      CHIP only  Administrative        49.3                          48   \n",
       "3      CHIP only  Administrative        64.8                          48   \n",
       "4  Medicaid only  Administrative        17.9                          41   \n",
       "\n",
       "   Median  Bottom Quartile  Top Quartile Notes  \\\n",
       "0    51.5             42.5          60.9   NaN   \n",
       "1    69.6             61.8          76.0   NaN   \n",
       "2    51.5             42.5          60.9   NaN   \n",
       "3    69.6             61.8          76.0   NaN   \n",
       "4    22.8             19.5          28.3   NaN   \n",
       "\n",
       "                                              Source  \\\n",
       "0  Mathematica analysis of the Quality Measure Re...   \n",
       "1  Mathematica analysis of the Quality Measure Re...   \n",
       "2  Mathematica analysis of the Quality Measure Re...   \n",
       "3  Mathematica analysis of the Quality Measure Re...   \n",
       "4  Mathematica analysis of the Quality Measure Re...   \n",
       "\n",
       "                             State-Specific Comments  \\\n",
       "0   Medicaid rates include FFS and PCCM populations.   \n",
       "1   Medicaid rates include FFS and PCCM populations.   \n",
       "2  CHIP rates include FFS population. The state d...   \n",
       "3  CHIP rates include FFS population. The state d...   \n",
       "4  Medicaid rates include FFS and PCCM population...   \n",
       "\n",
       "  Rate Used in Calculating State Mean and Median  \n",
       "0                                            Yes  \n",
       "1                                            Yes  \n",
       "2                                             No  \n",
       "3                                             No  \n",
       "4                                            Yes  "
      ]
     },
     "execution_count": 47,
     "metadata": {},
     "output_type": "execute_result"
    }
   ],
   "source": [
    "# Reassign the column name \"State Rate\" to \"State_Rate\"\n",
    "df = df.rename(columns = {\"State Rate\": \"State_Rate\"})\n",
    "df.head()"
   ]
  },
  {
   "cell_type": "markdown",
   "metadata": {},
   "source": [
    "# Categorical Data Analysis Practice\n",
    "> ### Applying lesson to personal data set"
   ]
  },
  {
   "cell_type": "code",
   "execution_count": 7,
   "metadata": {},
   "outputs": [
    {
     "data": {
      "text/plain": [
       "Source\n",
       "Mathematica analysis of the Quality Measure Reporting (QMR) system reports for the 2023 Core Set as of May 16, 2024.                                                                                                                                                                                                                                                                                                                     77.304839\n",
       "Agency for Healthcare Research and Quality (AHRQ) and CMS analysis of the AHRQ CAHPS Database for the July 2022 to June 2023 data collection period as of January 24, 2024.                                                                                                                                                                                                                                                              16.248675\n",
       "CMS used two data sources for reporting this measure for the 2023 Adult Core Set. The two sources are the AHRQ CAHPS Database for the July 2022 to June 2023 data collection period as of January 24, 2024 and Mathematica analysis of the Quality Measure Reporting (QMR) system reports for the 2023 Core Set as of May 16, 2024. The state-specific comments identify the data source for each state's rate for the 2023 Core Set.     2.967149\n",
       "Mathematica analysis of the Centers for Disease Control and Prevention Wide-ranging Online Data for Epidemiologic Research (CDC WONDER) data as of October 26, 2023.                                                                                                                                                                                                                                                                      1.836807\n",
       "Mathematica analysis of National Core Indicators (NCI) data submitted by states to the National Association of State Directors of Developmental Disabilities Services (NASDDDS) and the Human Services Research Institute (HSRI) (The NCI National Team) through the Online Data Entry System (ODESA) for the July 1, 2022 to June 30, 2023 data collection period, corresponding to the 2023 Core Set, as of May 22, 2024.               1.642529\n",
       "Name: proportion, dtype: float64"
      ]
     },
     "execution_count": 7,
     "metadata": {},
     "output_type": "execute_result"
    }
   ],
   "source": [
    "# calculate the percentage of each category in the \"Source\" column\n",
    "df['Source'].value_counts(normalize=True) * 100"
   ]
  },
  {
   "cell_type": "code",
   "execution_count": 46,
   "metadata": {},
   "outputs": [
    {
     "data": {
      "text/plain": [
       "array([nan,\n",
       "       \"DS = Data suppressed because data cannot be displayed per the Centers for Medicare & Medicaid Services' cell-size suppression policy, which prohibits the direct reporting of data for beneficiary and record counts of 1 to 10 and values from which users can derive values of 1 to 10.\",\n",
       "       '# = Rate not reported either because fewer than 100 beneficiaries responded to the survey or because fewer than 20 beneficiaries provided the selected response option (e.g., 9 or 10 for rating measures, \"always\" for composite measures).',\n",
       "       'NR = State did not report the measure for this population',\n",
       "       '# = Rate not reported because denominator is less than 30'],\n",
       "      dtype=object)"
      ]
     },
     "execution_count": 46,
     "metadata": {},
     "output_type": "execute_result"
    }
   ],
   "source": [
    "# calculate the unique elements in the \"Notes\" column\n",
    "df['Notes'].unique()"
   ]
  },
  {
   "cell_type": "code",
   "execution_count": 11,
   "metadata": {},
   "outputs": [
    {
     "data": {
      "text/plain": [
       "Domain\n",
       "Behavioral Health Care                     29.689156\n",
       "Primary Care Access and Preventive Care    22.200636\n",
       "Experience of Care                         16.248675\n",
       "Care of Acute and Chronic Conditions       14.659131\n",
       "Maternal and Perinatal Health              12.539739\n",
       "Dental and Oral Health Services             3.020134\n",
       "Long-Term Services and Supports             1.642529\n",
       "Name: proportion, dtype: float64"
      ]
     },
     "execution_count": 11,
     "metadata": {},
     "output_type": "execute_result"
    }
   ],
   "source": [
    "# Calculate the percentage of each category in the \"Domain\" column\n",
    "df['Domain'].value_counts(normalize=True) * 100"
   ]
  },
  {
   "cell_type": "code",
   "execution_count": 18,
   "metadata": {},
   "outputs": [
    {
     "data": {
      "application/vnd.microsoft.datawrangler.viewer.v0+json": {
       "columns": [
        {
         "name": "State",
         "rawType": "object",
         "type": "string"
        },
        {
         "name": "Behavioral Health Care",
         "rawType": "int64",
         "type": "integer"
        },
        {
         "name": "Care of Acute and Chronic Conditions",
         "rawType": "int64",
         "type": "integer"
        },
        {
         "name": "Dental and Oral Health Services",
         "rawType": "int64",
         "type": "integer"
        },
        {
         "name": "Experience of Care",
         "rawType": "int64",
         "type": "integer"
        },
        {
         "name": "Long-Term Services and Supports",
         "rawType": "int64",
         "type": "integer"
        },
        {
         "name": "Maternal and Perinatal Health",
         "rawType": "int64",
         "type": "integer"
        },
        {
         "name": "Primary Care Access and Preventive Care",
         "rawType": "int64",
         "type": "integer"
        }
       ],
       "conversionMethod": "pd.DataFrame",
       "ref": "5f472893-b1f9-4a53-9a3b-2dba6b41c30d",
       "rows": [
        [
         "Alabama",
         "46",
         "23",
         "8",
         "24",
         "3",
         "23",
         "42"
        ],
        [
         "Alaska",
         "24",
         "5",
         "4",
         "16",
         "0",
         "9",
         "14"
        ],
        [
         "Arizona",
         "34",
         "19",
         "4",
         "24",
         "0",
         "16",
         "24"
        ],
        [
         "Arkansas",
         "34",
         "13",
         "4",
         "24",
         "3",
         "14",
         "20"
        ],
        [
         "California",
         "34",
         "17",
         "4",
         "24",
         "0",
         "16",
         "21"
        ],
        [
         "Colorado",
         "46",
         "21",
         "0",
         "24",
         "0",
         "23",
         "42"
        ],
        [
         "Connecticut",
         "34",
         "19",
         "4",
         "24",
         "3",
         "16",
         "24"
        ],
        [
         "Delaware",
         "34",
         "19",
         "4",
         "24",
         "3",
         "16",
         "24"
        ],
        [
         "Dist. of Col.",
         "33",
         "14",
         "2",
         "16",
         "3",
         "15",
         "24"
        ],
        [
         "Florida",
         "31",
         "15",
         "4",
         "0",
         "0",
         "16",
         "23"
        ],
        [
         "Georgia",
         "30",
         "15",
         "4",
         "24",
         "3",
         "4",
         "22"
        ],
        [
         "Hawaii",
         "34",
         "15",
         "4",
         "24",
         "3",
         "16",
         "21"
        ],
        [
         "Idaho",
         "18",
         "11",
         "4",
         "8",
         "0",
         "14",
         "11"
        ],
        [
         "Illinois",
         "33",
         "8",
         "0",
         "24",
         "3",
         "16",
         "22"
        ],
        [
         "Indiana",
         "34",
         "14",
         "4",
         "16",
         "3",
         "16",
         "24"
        ],
        [
         "Iowa",
         "31",
         "17",
         "4",
         "0",
         "0",
         "7",
         "14"
        ],
        [
         "Kansas",
         "34",
         "18",
         "4",
         "24",
         "3",
         "16",
         "24"
        ],
        [
         "Kentucky",
         "33",
         "11",
         "0",
         "24",
         "3",
         "4",
         "14"
        ],
        [
         "Louisiana",
         "34",
         "19",
         "4",
         "16",
         "0",
         "16",
         "24"
        ],
        [
         "Maine",
         "31",
         "16",
         "4",
         "0",
         "0",
         "16",
         "23"
        ],
        [
         "Maryland",
         "34",
         "19",
         "2",
         "16",
         "3",
         "4",
         "23"
        ],
        [
         "Massachusetts",
         "34",
         "19",
         "4",
         "16",
         "0",
         "16",
         "24"
        ],
        [
         "Michigan",
         "18",
         "19",
         "0",
         "16",
         "3",
         "16",
         "24"
        ],
        [
         "Minnesota",
         "34",
         "14",
         "2",
         "16",
         "3",
         "16",
         "23"
        ],
        [
         "Mississippi",
         "34",
         "19",
         "3",
         "24",
         "0",
         "16",
         "24"
        ],
        [
         "Missouri",
         "26",
         "14",
         "4",
         "24",
         "3",
         "16",
         "23"
        ],
        [
         "Montana",
         "3",
         "0",
         "0",
         "24",
         "3",
         "2",
         "1"
        ],
        [
         "Nebraska",
         "34",
         "19",
         "4",
         "24",
         "3",
         "16",
         "24"
        ],
        [
         "Nevada",
         "46",
         "22",
         "8",
         "24",
         "3",
         "23",
         "41"
        ],
        [
         "New Hampshire",
         "34",
         "19",
         "2",
         "16",
         "3",
         "16",
         "24"
        ],
        [
         "New Jersey",
         "34",
         "15",
         "4",
         "24",
         "3",
         "16",
         "24"
        ],
        [
         "New Mexico",
         "33",
         "14",
         "0",
         "16",
         "0",
         "4",
         "23"
        ],
        [
         "New York",
         "31",
         "18",
         "0",
         "8",
         "3",
         "16",
         "23"
        ],
        [
         "North Carolina",
         "43",
         "22",
         "8",
         "0",
         "3",
         "23",
         "41"
        ],
        [
         "North Dakota",
         "34",
         "19",
         "4",
         "16",
         "0",
         "16",
         "24"
        ],
        [
         "Ohio",
         "33",
         "13",
         "0",
         "16",
         "0",
         "4",
         "21"
        ],
        [
         "Oklahoma",
         "34",
         "16",
         "4",
         "24",
         "3",
         "16",
         "24"
        ],
        [
         "Oregon",
         "21",
         "9",
         "4",
         "16",
         "3",
         "4",
         "19"
        ],
        [
         "Pennsylvania",
         "34",
         "18",
         "4",
         "24",
         "3",
         "16",
         "24"
        ],
        [
         "Puerto Rico",
         "29",
         "15",
         "4",
         "0",
         "0",
         "15",
         "23"
        ],
        [
         "Rhode Island",
         "33",
         "13",
         "4",
         "16",
         "0",
         "4",
         "24"
        ],
        [
         "South Carolina",
         "34",
         "19",
         "4",
         "16",
         "3",
         "16",
         "24"
        ],
        [
         "South Dakota",
         "34",
         "16",
         "4",
         "24",
         "0",
         "16",
         "21"
        ],
        [
         "Tennessee",
         "34",
         "19",
         "4",
         "16",
         "0",
         "16",
         "24"
        ],
        [
         "Texas",
         "45",
         "23",
         "8",
         "24",
         "3",
         "23",
         "42"
        ],
        [
         "Utah",
         "14",
         "15",
         "0",
         "8",
         "3",
         "5",
         "35"
        ],
        [
         "Vermont",
         "34",
         "19",
         "4",
         "16",
         "0",
         "8",
         "24"
        ],
        [
         "Virginia",
         "34",
         "5",
         "4",
         "24",
         "3",
         "3",
         "18"
        ],
        [
         "Washington",
         "34",
         "19",
         "4",
         "16",
         "0",
         "16",
         "24"
        ],
        [
         "West Virginia",
         "46",
         "22",
         "0",
         "24",
         "0",
         "23",
         "42"
        ]
       ],
       "shape": {
        "columns": 7,
        "rows": 52
       }
      },
      "text/html": [
       "<div>\n",
       "<style scoped>\n",
       "    .dataframe tbody tr th:only-of-type {\n",
       "        vertical-align: middle;\n",
       "    }\n",
       "\n",
       "    .dataframe tbody tr th {\n",
       "        vertical-align: top;\n",
       "    }\n",
       "\n",
       "    .dataframe thead th {\n",
       "        text-align: right;\n",
       "    }\n",
       "</style>\n",
       "<table border=\"1\" class=\"dataframe\">\n",
       "  <thead>\n",
       "    <tr style=\"text-align: right;\">\n",
       "      <th>Domain</th>\n",
       "      <th>Behavioral Health Care</th>\n",
       "      <th>Care of Acute and Chronic Conditions</th>\n",
       "      <th>Dental and Oral Health Services</th>\n",
       "      <th>Experience of Care</th>\n",
       "      <th>Long-Term Services and Supports</th>\n",
       "      <th>Maternal and Perinatal Health</th>\n",
       "      <th>Primary Care Access and Preventive Care</th>\n",
       "    </tr>\n",
       "    <tr>\n",
       "      <th>State</th>\n",
       "      <th></th>\n",
       "      <th></th>\n",
       "      <th></th>\n",
       "      <th></th>\n",
       "      <th></th>\n",
       "      <th></th>\n",
       "      <th></th>\n",
       "    </tr>\n",
       "  </thead>\n",
       "  <tbody>\n",
       "    <tr>\n",
       "      <th>Alabama</th>\n",
       "      <td>46</td>\n",
       "      <td>23</td>\n",
       "      <td>8</td>\n",
       "      <td>24</td>\n",
       "      <td>3</td>\n",
       "      <td>23</td>\n",
       "      <td>42</td>\n",
       "    </tr>\n",
       "    <tr>\n",
       "      <th>Alaska</th>\n",
       "      <td>24</td>\n",
       "      <td>5</td>\n",
       "      <td>4</td>\n",
       "      <td>16</td>\n",
       "      <td>0</td>\n",
       "      <td>9</td>\n",
       "      <td>14</td>\n",
       "    </tr>\n",
       "    <tr>\n",
       "      <th>Arizona</th>\n",
       "      <td>34</td>\n",
       "      <td>19</td>\n",
       "      <td>4</td>\n",
       "      <td>24</td>\n",
       "      <td>0</td>\n",
       "      <td>16</td>\n",
       "      <td>24</td>\n",
       "    </tr>\n",
       "    <tr>\n",
       "      <th>Arkansas</th>\n",
       "      <td>34</td>\n",
       "      <td>13</td>\n",
       "      <td>4</td>\n",
       "      <td>24</td>\n",
       "      <td>3</td>\n",
       "      <td>14</td>\n",
       "      <td>20</td>\n",
       "    </tr>\n",
       "    <tr>\n",
       "      <th>California</th>\n",
       "      <td>34</td>\n",
       "      <td>17</td>\n",
       "      <td>4</td>\n",
       "      <td>24</td>\n",
       "      <td>0</td>\n",
       "      <td>16</td>\n",
       "      <td>21</td>\n",
       "    </tr>\n",
       "    <tr>\n",
       "      <th>Colorado</th>\n",
       "      <td>46</td>\n",
       "      <td>21</td>\n",
       "      <td>0</td>\n",
       "      <td>24</td>\n",
       "      <td>0</td>\n",
       "      <td>23</td>\n",
       "      <td>42</td>\n",
       "    </tr>\n",
       "    <tr>\n",
       "      <th>Connecticut</th>\n",
       "      <td>34</td>\n",
       "      <td>19</td>\n",
       "      <td>4</td>\n",
       "      <td>24</td>\n",
       "      <td>3</td>\n",
       "      <td>16</td>\n",
       "      <td>24</td>\n",
       "    </tr>\n",
       "    <tr>\n",
       "      <th>Delaware</th>\n",
       "      <td>34</td>\n",
       "      <td>19</td>\n",
       "      <td>4</td>\n",
       "      <td>24</td>\n",
       "      <td>3</td>\n",
       "      <td>16</td>\n",
       "      <td>24</td>\n",
       "    </tr>\n",
       "    <tr>\n",
       "      <th>Dist. of Col.</th>\n",
       "      <td>33</td>\n",
       "      <td>14</td>\n",
       "      <td>2</td>\n",
       "      <td>16</td>\n",
       "      <td>3</td>\n",
       "      <td>15</td>\n",
       "      <td>24</td>\n",
       "    </tr>\n",
       "    <tr>\n",
       "      <th>Florida</th>\n",
       "      <td>31</td>\n",
       "      <td>15</td>\n",
       "      <td>4</td>\n",
       "      <td>0</td>\n",
       "      <td>0</td>\n",
       "      <td>16</td>\n",
       "      <td>23</td>\n",
       "    </tr>\n",
       "    <tr>\n",
       "      <th>Georgia</th>\n",
       "      <td>30</td>\n",
       "      <td>15</td>\n",
       "      <td>4</td>\n",
       "      <td>24</td>\n",
       "      <td>3</td>\n",
       "      <td>4</td>\n",
       "      <td>22</td>\n",
       "    </tr>\n",
       "    <tr>\n",
       "      <th>Hawaii</th>\n",
       "      <td>34</td>\n",
       "      <td>15</td>\n",
       "      <td>4</td>\n",
       "      <td>24</td>\n",
       "      <td>3</td>\n",
       "      <td>16</td>\n",
       "      <td>21</td>\n",
       "    </tr>\n",
       "    <tr>\n",
       "      <th>Idaho</th>\n",
       "      <td>18</td>\n",
       "      <td>11</td>\n",
       "      <td>4</td>\n",
       "      <td>8</td>\n",
       "      <td>0</td>\n",
       "      <td>14</td>\n",
       "      <td>11</td>\n",
       "    </tr>\n",
       "    <tr>\n",
       "      <th>Illinois</th>\n",
       "      <td>33</td>\n",
       "      <td>8</td>\n",
       "      <td>0</td>\n",
       "      <td>24</td>\n",
       "      <td>3</td>\n",
       "      <td>16</td>\n",
       "      <td>22</td>\n",
       "    </tr>\n",
       "    <tr>\n",
       "      <th>Indiana</th>\n",
       "      <td>34</td>\n",
       "      <td>14</td>\n",
       "      <td>4</td>\n",
       "      <td>16</td>\n",
       "      <td>3</td>\n",
       "      <td>16</td>\n",
       "      <td>24</td>\n",
       "    </tr>\n",
       "    <tr>\n",
       "      <th>Iowa</th>\n",
       "      <td>31</td>\n",
       "      <td>17</td>\n",
       "      <td>4</td>\n",
       "      <td>0</td>\n",
       "      <td>0</td>\n",
       "      <td>7</td>\n",
       "      <td>14</td>\n",
       "    </tr>\n",
       "    <tr>\n",
       "      <th>Kansas</th>\n",
       "      <td>34</td>\n",
       "      <td>18</td>\n",
       "      <td>4</td>\n",
       "      <td>24</td>\n",
       "      <td>3</td>\n",
       "      <td>16</td>\n",
       "      <td>24</td>\n",
       "    </tr>\n",
       "    <tr>\n",
       "      <th>Kentucky</th>\n",
       "      <td>33</td>\n",
       "      <td>11</td>\n",
       "      <td>0</td>\n",
       "      <td>24</td>\n",
       "      <td>3</td>\n",
       "      <td>4</td>\n",
       "      <td>14</td>\n",
       "    </tr>\n",
       "    <tr>\n",
       "      <th>Louisiana</th>\n",
       "      <td>34</td>\n",
       "      <td>19</td>\n",
       "      <td>4</td>\n",
       "      <td>16</td>\n",
       "      <td>0</td>\n",
       "      <td>16</td>\n",
       "      <td>24</td>\n",
       "    </tr>\n",
       "    <tr>\n",
       "      <th>Maine</th>\n",
       "      <td>31</td>\n",
       "      <td>16</td>\n",
       "      <td>4</td>\n",
       "      <td>0</td>\n",
       "      <td>0</td>\n",
       "      <td>16</td>\n",
       "      <td>23</td>\n",
       "    </tr>\n",
       "    <tr>\n",
       "      <th>Maryland</th>\n",
       "      <td>34</td>\n",
       "      <td>19</td>\n",
       "      <td>2</td>\n",
       "      <td>16</td>\n",
       "      <td>3</td>\n",
       "      <td>4</td>\n",
       "      <td>23</td>\n",
       "    </tr>\n",
       "    <tr>\n",
       "      <th>Massachusetts</th>\n",
       "      <td>34</td>\n",
       "      <td>19</td>\n",
       "      <td>4</td>\n",
       "      <td>16</td>\n",
       "      <td>0</td>\n",
       "      <td>16</td>\n",
       "      <td>24</td>\n",
       "    </tr>\n",
       "    <tr>\n",
       "      <th>Michigan</th>\n",
       "      <td>18</td>\n",
       "      <td>19</td>\n",
       "      <td>0</td>\n",
       "      <td>16</td>\n",
       "      <td>3</td>\n",
       "      <td>16</td>\n",
       "      <td>24</td>\n",
       "    </tr>\n",
       "    <tr>\n",
       "      <th>Minnesota</th>\n",
       "      <td>34</td>\n",
       "      <td>14</td>\n",
       "      <td>2</td>\n",
       "      <td>16</td>\n",
       "      <td>3</td>\n",
       "      <td>16</td>\n",
       "      <td>23</td>\n",
       "    </tr>\n",
       "    <tr>\n",
       "      <th>Mississippi</th>\n",
       "      <td>34</td>\n",
       "      <td>19</td>\n",
       "      <td>3</td>\n",
       "      <td>24</td>\n",
       "      <td>0</td>\n",
       "      <td>16</td>\n",
       "      <td>24</td>\n",
       "    </tr>\n",
       "    <tr>\n",
       "      <th>Missouri</th>\n",
       "      <td>26</td>\n",
       "      <td>14</td>\n",
       "      <td>4</td>\n",
       "      <td>24</td>\n",
       "      <td>3</td>\n",
       "      <td>16</td>\n",
       "      <td>23</td>\n",
       "    </tr>\n",
       "    <tr>\n",
       "      <th>Montana</th>\n",
       "      <td>3</td>\n",
       "      <td>0</td>\n",
       "      <td>0</td>\n",
       "      <td>24</td>\n",
       "      <td>3</td>\n",
       "      <td>2</td>\n",
       "      <td>1</td>\n",
       "    </tr>\n",
       "    <tr>\n",
       "      <th>Nebraska</th>\n",
       "      <td>34</td>\n",
       "      <td>19</td>\n",
       "      <td>4</td>\n",
       "      <td>24</td>\n",
       "      <td>3</td>\n",
       "      <td>16</td>\n",
       "      <td>24</td>\n",
       "    </tr>\n",
       "    <tr>\n",
       "      <th>Nevada</th>\n",
       "      <td>46</td>\n",
       "      <td>22</td>\n",
       "      <td>8</td>\n",
       "      <td>24</td>\n",
       "      <td>3</td>\n",
       "      <td>23</td>\n",
       "      <td>41</td>\n",
       "    </tr>\n",
       "    <tr>\n",
       "      <th>New Hampshire</th>\n",
       "      <td>34</td>\n",
       "      <td>19</td>\n",
       "      <td>2</td>\n",
       "      <td>16</td>\n",
       "      <td>3</td>\n",
       "      <td>16</td>\n",
       "      <td>24</td>\n",
       "    </tr>\n",
       "    <tr>\n",
       "      <th>New Jersey</th>\n",
       "      <td>34</td>\n",
       "      <td>15</td>\n",
       "      <td>4</td>\n",
       "      <td>24</td>\n",
       "      <td>3</td>\n",
       "      <td>16</td>\n",
       "      <td>24</td>\n",
       "    </tr>\n",
       "    <tr>\n",
       "      <th>New Mexico</th>\n",
       "      <td>33</td>\n",
       "      <td>14</td>\n",
       "      <td>0</td>\n",
       "      <td>16</td>\n",
       "      <td>0</td>\n",
       "      <td>4</td>\n",
       "      <td>23</td>\n",
       "    </tr>\n",
       "    <tr>\n",
       "      <th>New York</th>\n",
       "      <td>31</td>\n",
       "      <td>18</td>\n",
       "      <td>0</td>\n",
       "      <td>8</td>\n",
       "      <td>3</td>\n",
       "      <td>16</td>\n",
       "      <td>23</td>\n",
       "    </tr>\n",
       "    <tr>\n",
       "      <th>North Carolina</th>\n",
       "      <td>43</td>\n",
       "      <td>22</td>\n",
       "      <td>8</td>\n",
       "      <td>0</td>\n",
       "      <td>3</td>\n",
       "      <td>23</td>\n",
       "      <td>41</td>\n",
       "    </tr>\n",
       "    <tr>\n",
       "      <th>North Dakota</th>\n",
       "      <td>34</td>\n",
       "      <td>19</td>\n",
       "      <td>4</td>\n",
       "      <td>16</td>\n",
       "      <td>0</td>\n",
       "      <td>16</td>\n",
       "      <td>24</td>\n",
       "    </tr>\n",
       "    <tr>\n",
       "      <th>Ohio</th>\n",
       "      <td>33</td>\n",
       "      <td>13</td>\n",
       "      <td>0</td>\n",
       "      <td>16</td>\n",
       "      <td>0</td>\n",
       "      <td>4</td>\n",
       "      <td>21</td>\n",
       "    </tr>\n",
       "    <tr>\n",
       "      <th>Oklahoma</th>\n",
       "      <td>34</td>\n",
       "      <td>16</td>\n",
       "      <td>4</td>\n",
       "      <td>24</td>\n",
       "      <td>3</td>\n",
       "      <td>16</td>\n",
       "      <td>24</td>\n",
       "    </tr>\n",
       "    <tr>\n",
       "      <th>Oregon</th>\n",
       "      <td>21</td>\n",
       "      <td>9</td>\n",
       "      <td>4</td>\n",
       "      <td>16</td>\n",
       "      <td>3</td>\n",
       "      <td>4</td>\n",
       "      <td>19</td>\n",
       "    </tr>\n",
       "    <tr>\n",
       "      <th>Pennsylvania</th>\n",
       "      <td>34</td>\n",
       "      <td>18</td>\n",
       "      <td>4</td>\n",
       "      <td>24</td>\n",
       "      <td>3</td>\n",
       "      <td>16</td>\n",
       "      <td>24</td>\n",
       "    </tr>\n",
       "    <tr>\n",
       "      <th>Puerto Rico</th>\n",
       "      <td>29</td>\n",
       "      <td>15</td>\n",
       "      <td>4</td>\n",
       "      <td>0</td>\n",
       "      <td>0</td>\n",
       "      <td>15</td>\n",
       "      <td>23</td>\n",
       "    </tr>\n",
       "    <tr>\n",
       "      <th>Rhode Island</th>\n",
       "      <td>33</td>\n",
       "      <td>13</td>\n",
       "      <td>4</td>\n",
       "      <td>16</td>\n",
       "      <td>0</td>\n",
       "      <td>4</td>\n",
       "      <td>24</td>\n",
       "    </tr>\n",
       "    <tr>\n",
       "      <th>South Carolina</th>\n",
       "      <td>34</td>\n",
       "      <td>19</td>\n",
       "      <td>4</td>\n",
       "      <td>16</td>\n",
       "      <td>3</td>\n",
       "      <td>16</td>\n",
       "      <td>24</td>\n",
       "    </tr>\n",
       "    <tr>\n",
       "      <th>South Dakota</th>\n",
       "      <td>34</td>\n",
       "      <td>16</td>\n",
       "      <td>4</td>\n",
       "      <td>24</td>\n",
       "      <td>0</td>\n",
       "      <td>16</td>\n",
       "      <td>21</td>\n",
       "    </tr>\n",
       "    <tr>\n",
       "      <th>Tennessee</th>\n",
       "      <td>34</td>\n",
       "      <td>19</td>\n",
       "      <td>4</td>\n",
       "      <td>16</td>\n",
       "      <td>0</td>\n",
       "      <td>16</td>\n",
       "      <td>24</td>\n",
       "    </tr>\n",
       "    <tr>\n",
       "      <th>Texas</th>\n",
       "      <td>45</td>\n",
       "      <td>23</td>\n",
       "      <td>8</td>\n",
       "      <td>24</td>\n",
       "      <td>3</td>\n",
       "      <td>23</td>\n",
       "      <td>42</td>\n",
       "    </tr>\n",
       "    <tr>\n",
       "      <th>Utah</th>\n",
       "      <td>14</td>\n",
       "      <td>15</td>\n",
       "      <td>0</td>\n",
       "      <td>8</td>\n",
       "      <td>3</td>\n",
       "      <td>5</td>\n",
       "      <td>35</td>\n",
       "    </tr>\n",
       "    <tr>\n",
       "      <th>Vermont</th>\n",
       "      <td>34</td>\n",
       "      <td>19</td>\n",
       "      <td>4</td>\n",
       "      <td>16</td>\n",
       "      <td>0</td>\n",
       "      <td>8</td>\n",
       "      <td>24</td>\n",
       "    </tr>\n",
       "    <tr>\n",
       "      <th>Virginia</th>\n",
       "      <td>34</td>\n",
       "      <td>5</td>\n",
       "      <td>4</td>\n",
       "      <td>24</td>\n",
       "      <td>3</td>\n",
       "      <td>3</td>\n",
       "      <td>18</td>\n",
       "    </tr>\n",
       "    <tr>\n",
       "      <th>Washington</th>\n",
       "      <td>34</td>\n",
       "      <td>19</td>\n",
       "      <td>4</td>\n",
       "      <td>16</td>\n",
       "      <td>0</td>\n",
       "      <td>16</td>\n",
       "      <td>24</td>\n",
       "    </tr>\n",
       "    <tr>\n",
       "      <th>West Virginia</th>\n",
       "      <td>46</td>\n",
       "      <td>22</td>\n",
       "      <td>0</td>\n",
       "      <td>24</td>\n",
       "      <td>0</td>\n",
       "      <td>23</td>\n",
       "      <td>42</td>\n",
       "    </tr>\n",
       "    <tr>\n",
       "      <th>Wisconsin</th>\n",
       "      <td>33</td>\n",
       "      <td>13</td>\n",
       "      <td>0</td>\n",
       "      <td>24</td>\n",
       "      <td>3</td>\n",
       "      <td>4</td>\n",
       "      <td>22</td>\n",
       "    </tr>\n",
       "    <tr>\n",
       "      <th>Wyoming</th>\n",
       "      <td>21</td>\n",
       "      <td>15</td>\n",
       "      <td>4</td>\n",
       "      <td>8</td>\n",
       "      <td>3</td>\n",
       "      <td>16</td>\n",
       "      <td>23</td>\n",
       "    </tr>\n",
       "  </tbody>\n",
       "</table>\n",
       "</div>"
      ],
      "text/plain": [
       "Domain          Behavioral Health Care  Care of Acute and Chronic Conditions  \\\n",
       "State                                                                          \n",
       "Alabama                             46                                    23   \n",
       "Alaska                              24                                     5   \n",
       "Arizona                             34                                    19   \n",
       "Arkansas                            34                                    13   \n",
       "California                          34                                    17   \n",
       "Colorado                            46                                    21   \n",
       "Connecticut                         34                                    19   \n",
       "Delaware                            34                                    19   \n",
       "Dist. of Col.                       33                                    14   \n",
       "Florida                             31                                    15   \n",
       "Georgia                             30                                    15   \n",
       "Hawaii                              34                                    15   \n",
       "Idaho                               18                                    11   \n",
       "Illinois                            33                                     8   \n",
       "Indiana                             34                                    14   \n",
       "Iowa                                31                                    17   \n",
       "Kansas                              34                                    18   \n",
       "Kentucky                            33                                    11   \n",
       "Louisiana                           34                                    19   \n",
       "Maine                               31                                    16   \n",
       "Maryland                            34                                    19   \n",
       "Massachusetts                       34                                    19   \n",
       "Michigan                            18                                    19   \n",
       "Minnesota                           34                                    14   \n",
       "Mississippi                         34                                    19   \n",
       "Missouri                            26                                    14   \n",
       "Montana                              3                                     0   \n",
       "Nebraska                            34                                    19   \n",
       "Nevada                              46                                    22   \n",
       "New Hampshire                       34                                    19   \n",
       "New Jersey                          34                                    15   \n",
       "New Mexico                          33                                    14   \n",
       "New York                            31                                    18   \n",
       "North Carolina                      43                                    22   \n",
       "North Dakota                        34                                    19   \n",
       "Ohio                                33                                    13   \n",
       "Oklahoma                            34                                    16   \n",
       "Oregon                              21                                     9   \n",
       "Pennsylvania                        34                                    18   \n",
       "Puerto Rico                         29                                    15   \n",
       "Rhode Island                        33                                    13   \n",
       "South Carolina                      34                                    19   \n",
       "South Dakota                        34                                    16   \n",
       "Tennessee                           34                                    19   \n",
       "Texas                               45                                    23   \n",
       "Utah                                14                                    15   \n",
       "Vermont                             34                                    19   \n",
       "Virginia                            34                                     5   \n",
       "Washington                          34                                    19   \n",
       "West Virginia                       46                                    22   \n",
       "Wisconsin                           33                                    13   \n",
       "Wyoming                             21                                    15   \n",
       "\n",
       "Domain          Dental and Oral Health Services  Experience of Care  \\\n",
       "State                                                                 \n",
       "Alabama                                       8                  24   \n",
       "Alaska                                        4                  16   \n",
       "Arizona                                       4                  24   \n",
       "Arkansas                                      4                  24   \n",
       "California                                    4                  24   \n",
       "Colorado                                      0                  24   \n",
       "Connecticut                                   4                  24   \n",
       "Delaware                                      4                  24   \n",
       "Dist. of Col.                                 2                  16   \n",
       "Florida                                       4                   0   \n",
       "Georgia                                       4                  24   \n",
       "Hawaii                                        4                  24   \n",
       "Idaho                                         4                   8   \n",
       "Illinois                                      0                  24   \n",
       "Indiana                                       4                  16   \n",
       "Iowa                                          4                   0   \n",
       "Kansas                                        4                  24   \n",
       "Kentucky                                      0                  24   \n",
       "Louisiana                                     4                  16   \n",
       "Maine                                         4                   0   \n",
       "Maryland                                      2                  16   \n",
       "Massachusetts                                 4                  16   \n",
       "Michigan                                      0                  16   \n",
       "Minnesota                                     2                  16   \n",
       "Mississippi                                   3                  24   \n",
       "Missouri                                      4                  24   \n",
       "Montana                                       0                  24   \n",
       "Nebraska                                      4                  24   \n",
       "Nevada                                        8                  24   \n",
       "New Hampshire                                 2                  16   \n",
       "New Jersey                                    4                  24   \n",
       "New Mexico                                    0                  16   \n",
       "New York                                      0                   8   \n",
       "North Carolina                                8                   0   \n",
       "North Dakota                                  4                  16   \n",
       "Ohio                                          0                  16   \n",
       "Oklahoma                                      4                  24   \n",
       "Oregon                                        4                  16   \n",
       "Pennsylvania                                  4                  24   \n",
       "Puerto Rico                                   4                   0   \n",
       "Rhode Island                                  4                  16   \n",
       "South Carolina                                4                  16   \n",
       "South Dakota                                  4                  24   \n",
       "Tennessee                                     4                  16   \n",
       "Texas                                         8                  24   \n",
       "Utah                                          0                   8   \n",
       "Vermont                                       4                  16   \n",
       "Virginia                                      4                  24   \n",
       "Washington                                    4                  16   \n",
       "West Virginia                                 0                  24   \n",
       "Wisconsin                                     0                  24   \n",
       "Wyoming                                       4                   8   \n",
       "\n",
       "Domain          Long-Term Services and Supports  \\\n",
       "State                                             \n",
       "Alabama                                       3   \n",
       "Alaska                                        0   \n",
       "Arizona                                       0   \n",
       "Arkansas                                      3   \n",
       "California                                    0   \n",
       "Colorado                                      0   \n",
       "Connecticut                                   3   \n",
       "Delaware                                      3   \n",
       "Dist. of Col.                                 3   \n",
       "Florida                                       0   \n",
       "Georgia                                       3   \n",
       "Hawaii                                        3   \n",
       "Idaho                                         0   \n",
       "Illinois                                      3   \n",
       "Indiana                                       3   \n",
       "Iowa                                          0   \n",
       "Kansas                                        3   \n",
       "Kentucky                                      3   \n",
       "Louisiana                                     0   \n",
       "Maine                                         0   \n",
       "Maryland                                      3   \n",
       "Massachusetts                                 0   \n",
       "Michigan                                      3   \n",
       "Minnesota                                     3   \n",
       "Mississippi                                   0   \n",
       "Missouri                                      3   \n",
       "Montana                                       3   \n",
       "Nebraska                                      3   \n",
       "Nevada                                        3   \n",
       "New Hampshire                                 3   \n",
       "New Jersey                                    3   \n",
       "New Mexico                                    0   \n",
       "New York                                      3   \n",
       "North Carolina                                3   \n",
       "North Dakota                                  0   \n",
       "Ohio                                          0   \n",
       "Oklahoma                                      3   \n",
       "Oregon                                        3   \n",
       "Pennsylvania                                  3   \n",
       "Puerto Rico                                   0   \n",
       "Rhode Island                                  0   \n",
       "South Carolina                                3   \n",
       "South Dakota                                  0   \n",
       "Tennessee                                     0   \n",
       "Texas                                         3   \n",
       "Utah                                          3   \n",
       "Vermont                                       0   \n",
       "Virginia                                      3   \n",
       "Washington                                    0   \n",
       "West Virginia                                 0   \n",
       "Wisconsin                                     3   \n",
       "Wyoming                                       3   \n",
       "\n",
       "Domain          Maternal and Perinatal Health  \\\n",
       "State                                           \n",
       "Alabama                                    23   \n",
       "Alaska                                      9   \n",
       "Arizona                                    16   \n",
       "Arkansas                                   14   \n",
       "California                                 16   \n",
       "Colorado                                   23   \n",
       "Connecticut                                16   \n",
       "Delaware                                   16   \n",
       "Dist. of Col.                              15   \n",
       "Florida                                    16   \n",
       "Georgia                                     4   \n",
       "Hawaii                                     16   \n",
       "Idaho                                      14   \n",
       "Illinois                                   16   \n",
       "Indiana                                    16   \n",
       "Iowa                                        7   \n",
       "Kansas                                     16   \n",
       "Kentucky                                    4   \n",
       "Louisiana                                  16   \n",
       "Maine                                      16   \n",
       "Maryland                                    4   \n",
       "Massachusetts                              16   \n",
       "Michigan                                   16   \n",
       "Minnesota                                  16   \n",
       "Mississippi                                16   \n",
       "Missouri                                   16   \n",
       "Montana                                     2   \n",
       "Nebraska                                   16   \n",
       "Nevada                                     23   \n",
       "New Hampshire                              16   \n",
       "New Jersey                                 16   \n",
       "New Mexico                                  4   \n",
       "New York                                   16   \n",
       "North Carolina                             23   \n",
       "North Dakota                               16   \n",
       "Ohio                                        4   \n",
       "Oklahoma                                   16   \n",
       "Oregon                                      4   \n",
       "Pennsylvania                               16   \n",
       "Puerto Rico                                15   \n",
       "Rhode Island                                4   \n",
       "South Carolina                             16   \n",
       "South Dakota                               16   \n",
       "Tennessee                                  16   \n",
       "Texas                                      23   \n",
       "Utah                                        5   \n",
       "Vermont                                     8   \n",
       "Virginia                                    3   \n",
       "Washington                                 16   \n",
       "West Virginia                              23   \n",
       "Wisconsin                                   4   \n",
       "Wyoming                                    16   \n",
       "\n",
       "Domain          Primary Care Access and Preventive Care  \n",
       "State                                                    \n",
       "Alabama                                              42  \n",
       "Alaska                                               14  \n",
       "Arizona                                              24  \n",
       "Arkansas                                             20  \n",
       "California                                           21  \n",
       "Colorado                                             42  \n",
       "Connecticut                                          24  \n",
       "Delaware                                             24  \n",
       "Dist. of Col.                                        24  \n",
       "Florida                                              23  \n",
       "Georgia                                              22  \n",
       "Hawaii                                               21  \n",
       "Idaho                                                11  \n",
       "Illinois                                             22  \n",
       "Indiana                                              24  \n",
       "Iowa                                                 14  \n",
       "Kansas                                               24  \n",
       "Kentucky                                             14  \n",
       "Louisiana                                            24  \n",
       "Maine                                                23  \n",
       "Maryland                                             23  \n",
       "Massachusetts                                        24  \n",
       "Michigan                                             24  \n",
       "Minnesota                                            23  \n",
       "Mississippi                                          24  \n",
       "Missouri                                             23  \n",
       "Montana                                               1  \n",
       "Nebraska                                             24  \n",
       "Nevada                                               41  \n",
       "New Hampshire                                        24  \n",
       "New Jersey                                           24  \n",
       "New Mexico                                           23  \n",
       "New York                                             23  \n",
       "North Carolina                                       41  \n",
       "North Dakota                                         24  \n",
       "Ohio                                                 21  \n",
       "Oklahoma                                             24  \n",
       "Oregon                                               19  \n",
       "Pennsylvania                                         24  \n",
       "Puerto Rico                                          23  \n",
       "Rhode Island                                         24  \n",
       "South Carolina                                       24  \n",
       "South Dakota                                         21  \n",
       "Tennessee                                            24  \n",
       "Texas                                                42  \n",
       "Utah                                                 35  \n",
       "Vermont                                              24  \n",
       "Virginia                                             18  \n",
       "Washington                                           24  \n",
       "West Virginia                                        42  \n",
       "Wisconsin                                            22  \n",
       "Wyoming                                              23  "
      ]
     },
     "execution_count": 18,
     "metadata": {},
     "output_type": "execute_result"
    }
   ],
   "source": [
    "# Create a cross tabulation of the \"State\" and \"Domain\" columns\n",
    "pandas.crosstab(df['State'], df['Domain'])"
   ]
  },
  {
   "cell_type": "markdown",
   "metadata": {},
   "source": [
    "# Comparative Numerical Analysis Practice\n",
    "> ### Applying lesson to personal data set"
   ]
  },
  {
   "cell_type": "code",
   "execution_count": 48,
   "metadata": {},
   "outputs": [
    {
     "data": {
      "text/plain": [
       "State\n",
       "Alabama           48.636970\n",
       "Alaska            36.775806\n",
       "Arizona           47.504853\n",
       "Arkansas          43.679949\n",
       "California        44.781119\n",
       "Colorado          43.841332\n",
       "Connecticut       51.746130\n",
       "Delaware          46.963041\n",
       "Dist. of Col.     47.834286\n",
       "Florida           40.982115\n",
       "Georgia           51.054554\n",
       "Hawaii            46.027547\n",
       "Idaho             42.011290\n",
       "Illinois          42.615054\n",
       "Indiana           48.523810\n",
       "Iowa              46.038536\n",
       "Kansas            49.418033\n",
       "Kentucky          58.085057\n",
       "Louisiana         46.288197\n",
       "Maine             42.234903\n",
       "Maryland          53.561509\n",
       "Massachusetts     53.038717\n",
       "Michigan          49.142484\n",
       "Minnesota         42.161821\n",
       "Mississippi       46.925072\n",
       "Missouri          46.235705\n",
       "Montana           62.008000\n",
       "Nebraska          49.817198\n",
       "Nevada            48.207806\n",
       "New Hampshire     50.923798\n",
       "New Jersey        48.816687\n",
       "New Mexico        51.315440\n",
       "New York          49.345912\n",
       "North Carolina    43.986094\n",
       "North Dakota      43.988774\n",
       "Ohio              55.262937\n",
       "Oklahoma          42.149651\n",
       "Oregon            48.219901\n",
       "Pennsylvania      52.902747\n",
       "Puerto Rico       39.469880\n",
       "Rhode Island      57.436101\n",
       "South Carolina    45.666148\n",
       "South Dakota      40.774642\n",
       "Tennessee         46.862228\n",
       "Texas             49.430941\n",
       "Utah              56.285301\n",
       "Vermont           51.569739\n",
       "Virginia          55.022472\n",
       "Washington        45.539584\n",
       "West Virginia     46.427549\n",
       "Wisconsin         53.395703\n",
       "Wyoming           37.430120\n",
       "Name: State_Rate, dtype: float64"
      ]
     },
     "execution_count": 48,
     "metadata": {},
     "output_type": "execute_result"
    }
   ],
   "source": [
    "# Calculate the mean of the \"State_Rate\" outputs for each of the \"State\" columns\n",
    "df.groupby('State').State_Rate.mean()"
   ]
  },
  {
   "cell_type": "markdown",
   "metadata": {},
   "source": [
    "# Numerical Data Analysis Practice\n",
    "> ### Applying lesson to personal data set"
   ]
  },
  {
   "cell_type": "code",
   "execution_count": 27,
   "metadata": {},
   "outputs": [
    {
     "data": {
      "text/plain": [
       "47.932666195690565"
      ]
     },
     "execution_count": 27,
     "metadata": {},
     "output_type": "execute_result"
    }
   ],
   "source": [
    "# Calculate the mean of the \"Median\" column\n",
    "df.Median.mean()"
   ]
  },
  {
   "cell_type": "code",
   "execution_count": 30,
   "metadata": {},
   "outputs": [
    {
     "data": {
      "text/plain": [
       "21.897178234013914"
      ]
     },
     "execution_count": 30,
     "metadata": {},
     "output_type": "execute_result"
    }
   ],
   "source": [
    "# Calculate the sample standard deviation of the \"Median\" column\n",
    "df.Median.std(ddof=1)"
   ]
  },
  {
   "cell_type": "code",
   "execution_count": 31,
   "metadata": {},
   "outputs": [
    {
     "data": {
      "text/plain": [
       "21.897178234013914"
      ]
     },
     "execution_count": 31,
     "metadata": {},
     "output_type": "execute_result"
    }
   ],
   "source": [
    "df.Median.std()"
   ]
  },
  {
   "cell_type": "code",
   "execution_count": 32,
   "metadata": {},
   "outputs": [
    {
     "data": {
      "text/plain": [
       "count    5662.000000\n",
       "mean       47.932666\n",
       "std        21.897178\n",
       "min         1.013900\n",
       "25%        33.700000\n",
       "50%        51.500000\n",
       "75%        66.600000\n",
       "max        93.500000\n",
       "Name: Median, dtype: float64"
      ]
     },
     "execution_count": 32,
     "metadata": {},
     "output_type": "execute_result"
    }
   ],
   "source": [
    "# Describe the summary statistics of the \"Median\" column\n",
    "df.Median.describe()"
   ]
  },
  {
   "cell_type": "code",
   "execution_count": 33,
   "metadata": {},
   "outputs": [
    {
     "data": {
      "application/vnd.microsoft.datawrangler.viewer.v0+json": {
       "columns": [
        {
         "name": "Domain",
         "rawType": "object",
         "type": "string"
        },
        {
         "name": "count",
         "rawType": "float64",
         "type": "float"
        },
        {
         "name": "mean",
         "rawType": "float64",
         "type": "float"
        },
        {
         "name": "std",
         "rawType": "float64",
         "type": "float"
        },
        {
         "name": "min",
         "rawType": "float64",
         "type": "float"
        },
        {
         "name": "25%",
         "rawType": "float64",
         "type": "float"
        },
        {
         "name": "50%",
         "rawType": "float64",
         "type": "float"
        },
        {
         "name": "75%",
         "rawType": "float64",
         "type": "float"
        },
        {
         "name": "max",
         "rawType": "float64",
         "type": "float"
        }
       ],
       "conversionMethod": "pd.DataFrame",
       "ref": "651167a0-f8cd-4356-b14c-a9283cd3dbf2",
       "rows": [
        [
         "Behavioral Health Care",
         "1681.0",
         "45.67317073170732",
         "16.464685151646755",
         "12.1",
         "33.7",
         "46.0",
         "58.7",
         "77.1"
        ],
        [
         "Care of Acute and Chronic Conditions",
         "830.0",
         "44.10826024096386",
         "24.768065110782306",
         "1.0139",
         "22.2",
         "52.2",
         "68.7",
         "75.9"
        ],
        [
         "Dental and Oral Health Services",
         "171.0",
         "36.6046783625731",
         "10.954761590905932",
         "19.0",
         "35.4",
         "42.8",
         "48.3",
         "48.3"
        ],
        [
         "Experience of Care",
         "920.0",
         "68.16826086956522",
         "6.972387105992616",
         "53.9",
         "62.7",
         "68.4",
         "72.4",
         "78.8"
        ],
        [
         "Long-Term Services and Supports",
         "93.0",
         "81.79999999999998",
         "13.823947400765473",
         "62.5",
         "62.5",
         "89.4",
         "93.5",
         "93.5"
        ],
        [
         "Maternal and Perinatal Health",
         "710.0",
         "25.010845070422537",
         "24.847011339123693",
         "2.1",
         "5.9",
         "18.1",
         "42.8",
         "80.0"
        ],
        [
         "Primary Care Access and Preventive Care",
         "1257.0",
         "50.65155131264916",
         "16.002229628559377",
         "19.1",
         "39.3",
         "52.3",
         "61.0",
         "82.6"
        ]
       ],
       "shape": {
        "columns": 8,
        "rows": 7
       }
      },
      "text/html": [
       "<div>\n",
       "<style scoped>\n",
       "    .dataframe tbody tr th:only-of-type {\n",
       "        vertical-align: middle;\n",
       "    }\n",
       "\n",
       "    .dataframe tbody tr th {\n",
       "        vertical-align: top;\n",
       "    }\n",
       "\n",
       "    .dataframe thead th {\n",
       "        text-align: right;\n",
       "    }\n",
       "</style>\n",
       "<table border=\"1\" class=\"dataframe\">\n",
       "  <thead>\n",
       "    <tr style=\"text-align: right;\">\n",
       "      <th></th>\n",
       "      <th>count</th>\n",
       "      <th>mean</th>\n",
       "      <th>std</th>\n",
       "      <th>min</th>\n",
       "      <th>25%</th>\n",
       "      <th>50%</th>\n",
       "      <th>75%</th>\n",
       "      <th>max</th>\n",
       "    </tr>\n",
       "    <tr>\n",
       "      <th>Domain</th>\n",
       "      <th></th>\n",
       "      <th></th>\n",
       "      <th></th>\n",
       "      <th></th>\n",
       "      <th></th>\n",
       "      <th></th>\n",
       "      <th></th>\n",
       "      <th></th>\n",
       "    </tr>\n",
       "  </thead>\n",
       "  <tbody>\n",
       "    <tr>\n",
       "      <th>Behavioral Health Care</th>\n",
       "      <td>1681.0</td>\n",
       "      <td>45.673171</td>\n",
       "      <td>16.464685</td>\n",
       "      <td>12.1000</td>\n",
       "      <td>33.7</td>\n",
       "      <td>46.0</td>\n",
       "      <td>58.7</td>\n",
       "      <td>77.1</td>\n",
       "    </tr>\n",
       "    <tr>\n",
       "      <th>Care of Acute and Chronic Conditions</th>\n",
       "      <td>830.0</td>\n",
       "      <td>44.108260</td>\n",
       "      <td>24.768065</td>\n",
       "      <td>1.0139</td>\n",
       "      <td>22.2</td>\n",
       "      <td>52.2</td>\n",
       "      <td>68.7</td>\n",
       "      <td>75.9</td>\n",
       "    </tr>\n",
       "    <tr>\n",
       "      <th>Dental and Oral Health Services</th>\n",
       "      <td>171.0</td>\n",
       "      <td>36.604678</td>\n",
       "      <td>10.954762</td>\n",
       "      <td>19.0000</td>\n",
       "      <td>35.4</td>\n",
       "      <td>42.8</td>\n",
       "      <td>48.3</td>\n",
       "      <td>48.3</td>\n",
       "    </tr>\n",
       "    <tr>\n",
       "      <th>Experience of Care</th>\n",
       "      <td>920.0</td>\n",
       "      <td>68.168261</td>\n",
       "      <td>6.972387</td>\n",
       "      <td>53.9000</td>\n",
       "      <td>62.7</td>\n",
       "      <td>68.4</td>\n",
       "      <td>72.4</td>\n",
       "      <td>78.8</td>\n",
       "    </tr>\n",
       "    <tr>\n",
       "      <th>Long-Term Services and Supports</th>\n",
       "      <td>93.0</td>\n",
       "      <td>81.800000</td>\n",
       "      <td>13.823947</td>\n",
       "      <td>62.5000</td>\n",
       "      <td>62.5</td>\n",
       "      <td>89.4</td>\n",
       "      <td>93.5</td>\n",
       "      <td>93.5</td>\n",
       "    </tr>\n",
       "    <tr>\n",
       "      <th>Maternal and Perinatal Health</th>\n",
       "      <td>710.0</td>\n",
       "      <td>25.010845</td>\n",
       "      <td>24.847011</td>\n",
       "      <td>2.1000</td>\n",
       "      <td>5.9</td>\n",
       "      <td>18.1</td>\n",
       "      <td>42.8</td>\n",
       "      <td>80.0</td>\n",
       "    </tr>\n",
       "    <tr>\n",
       "      <th>Primary Care Access and Preventive Care</th>\n",
       "      <td>1257.0</td>\n",
       "      <td>50.651551</td>\n",
       "      <td>16.002230</td>\n",
       "      <td>19.1000</td>\n",
       "      <td>39.3</td>\n",
       "      <td>52.3</td>\n",
       "      <td>61.0</td>\n",
       "      <td>82.6</td>\n",
       "    </tr>\n",
       "  </tbody>\n",
       "</table>\n",
       "</div>"
      ],
      "text/plain": [
       "                                          count       mean        std  \\\n",
       "Domain                                                                  \n",
       "Behavioral Health Care                   1681.0  45.673171  16.464685   \n",
       "Care of Acute and Chronic Conditions      830.0  44.108260  24.768065   \n",
       "Dental and Oral Health Services           171.0  36.604678  10.954762   \n",
       "Experience of Care                        920.0  68.168261   6.972387   \n",
       "Long-Term Services and Supports            93.0  81.800000  13.823947   \n",
       "Maternal and Perinatal Health             710.0  25.010845  24.847011   \n",
       "Primary Care Access and Preventive Care  1257.0  50.651551  16.002230   \n",
       "\n",
       "                                             min   25%   50%   75%   max  \n",
       "Domain                                                                    \n",
       "Behavioral Health Care                   12.1000  33.7  46.0  58.7  77.1  \n",
       "Care of Acute and Chronic Conditions      1.0139  22.2  52.2  68.7  75.9  \n",
       "Dental and Oral Health Services          19.0000  35.4  42.8  48.3  48.3  \n",
       "Experience of Care                       53.9000  62.7  68.4  72.4  78.8  \n",
       "Long-Term Services and Supports          62.5000  62.5  89.4  93.5  93.5  \n",
       "Maternal and Perinatal Health             2.1000   5.9  18.1  42.8  80.0  \n",
       "Primary Care Access and Preventive Care  19.1000  39.3  52.3  61.0  82.6  "
      ]
     },
     "execution_count": 33,
     "metadata": {},
     "output_type": "execute_result"
    }
   ],
   "source": [
    "# Describe the summary statistics of the \"Median\" column for each catefory in the \"Domain\" column\n",
    "df.groupby('Domain').Median.describe()"
   ]
  },
  {
   "cell_type": "code",
   "execution_count": 50,
   "metadata": {},
   "outputs": [
    {
     "data": {
      "text/plain": [
       "0.8699797843856106"
      ]
     },
     "execution_count": 50,
     "metadata": {},
     "output_type": "execute_result"
    }
   ],
   "source": [
    "# Calculate the correlation between the \"Median\" and \"State_Rate\" columns\n",
    "df.Median.corr(df['State_Rate'])"
   ]
  },
  {
   "cell_type": "code",
   "execution_count": 52,
   "metadata": {},
   "outputs": [
    {
     "data": {
      "application/vnd.microsoft.datawrangler.viewer.v0+json": {
       "columns": [
        {
         "name": "index",
         "rawType": "int64",
         "type": "integer"
        },
        {
         "name": "Median",
         "rawType": "float64",
         "type": "float"
        },
        {
         "name": "State_Rate",
         "rawType": "float64",
         "type": "float"
        }
       ],
       "conversionMethod": "pd.DataFrame",
       "ref": "a076fd34-b584-4560-8642-26a4016e7d65",
       "rows": [
        [
         "0",
         "51.5",
         "49.9"
        ],
        [
         "1",
         "69.6",
         "65.6"
        ],
        [
         "2",
         "51.5",
         "49.3"
        ],
        [
         "3",
         "69.6",
         "64.8"
        ],
        [
         "4",
         "22.8",
         "17.9"
        ],
        [
         "5",
         "33.7",
         "39.7"
        ],
        [
         "6",
         "22.8",
         null
        ],
        [
         "7",
         "33.7",
         null
        ],
        [
         "8",
         "47.3",
         "40.7"
        ],
        [
         "9",
         "72.1",
         "65.6"
        ],
        [
         "10",
         "47.3",
         "40.6"
        ],
        [
         "11",
         "72.1",
         "66.4"
        ],
        [
         "12",
         "46.0",
         "37.0"
        ],
        [
         "13",
         "54.1",
         "94.0"
        ],
        [
         "14",
         "46.0",
         "44.2"
        ],
        [
         "15",
         "54.1",
         "56.3"
        ],
        [
         "16",
         "53.1",
         "43.6"
        ],
        [
         "17",
         "34.2",
         "24.9"
        ],
        [
         "18",
         "32.3",
         "23.9"
        ],
        [
         "19",
         "53.1",
         "46.2"
        ],
        [
         "20",
         "34.2",
         "25.9"
        ],
        [
         "21",
         "32.3",
         "23.8"
        ],
        [
         "22",
         "60.5",
         "59.6"
        ],
        [
         "23",
         "60.5",
         "65.5"
        ],
        [
         "24",
         "36.5",
         "34.8"
        ],
        [
         "25",
         "36.5",
         "24.0"
        ],
        [
         "26",
         "75.9",
         "88.0"
        ],
        [
         "27",
         "68.7",
         "82.1"
        ],
        [
         "28",
         "71.6",
         "85.4"
        ],
        [
         "29",
         "75.9",
         "88.6"
        ],
        [
         "30",
         "68.7",
         "86.1"
        ],
        [
         "31",
         "71.6",
         "87.5"
        ],
        [
         "32",
         "71.4",
         "91.4"
        ],
        [
         "33",
         "71.4",
         "55.3"
        ],
        [
         "34",
         "42.8",
         "42.5"
        ],
        [
         "35",
         "42.8",
         "54.7"
        ],
        [
         "36",
         "48.3",
         "37.0"
        ],
        [
         "37",
         "35.4",
         "27.8"
        ],
        [
         "38",
         "48.3",
         "46.1"
        ],
        [
         "39",
         "35.4",
         "34.9"
        ],
        [
         "40",
         "19.0",
         "18.9"
        ],
        [
         "41",
         "19.0",
         "47.2"
        ],
        [
         "42",
         "60.5",
         "66.4"
        ],
        [
         "43",
         "70.9",
         "80.1"
        ],
        [
         "44",
         "78.8",
         "83.7"
        ],
        [
         "45",
         "68.4",
         "74.5"
        ],
        [
         "46",
         "75.2",
         "78.4"
        ],
        [
         "47",
         "72.4",
         "73.5"
        ],
        [
         "48",
         "68.2",
         "70.9"
        ],
        [
         "49",
         "71.8",
         "71.7"
        ]
       ],
       "shape": {
        "columns": 2,
        "rows": 5662
       }
      },
      "text/html": [
       "<div>\n",
       "<style scoped>\n",
       "    .dataframe tbody tr th:only-of-type {\n",
       "        vertical-align: middle;\n",
       "    }\n",
       "\n",
       "    .dataframe tbody tr th {\n",
       "        vertical-align: top;\n",
       "    }\n",
       "\n",
       "    .dataframe thead th {\n",
       "        text-align: right;\n",
       "    }\n",
       "</style>\n",
       "<table border=\"1\" class=\"dataframe\">\n",
       "  <thead>\n",
       "    <tr style=\"text-align: right;\">\n",
       "      <th></th>\n",
       "      <th>Median</th>\n",
       "      <th>State_Rate</th>\n",
       "    </tr>\n",
       "  </thead>\n",
       "  <tbody>\n",
       "    <tr>\n",
       "      <th>0</th>\n",
       "      <td>51.5</td>\n",
       "      <td>49.9</td>\n",
       "    </tr>\n",
       "    <tr>\n",
       "      <th>1</th>\n",
       "      <td>69.6</td>\n",
       "      <td>65.6</td>\n",
       "    </tr>\n",
       "    <tr>\n",
       "      <th>2</th>\n",
       "      <td>51.5</td>\n",
       "      <td>49.3</td>\n",
       "    </tr>\n",
       "    <tr>\n",
       "      <th>3</th>\n",
       "      <td>69.6</td>\n",
       "      <td>64.8</td>\n",
       "    </tr>\n",
       "    <tr>\n",
       "      <th>4</th>\n",
       "      <td>22.8</td>\n",
       "      <td>17.9</td>\n",
       "    </tr>\n",
       "    <tr>\n",
       "      <th>...</th>\n",
       "      <td>...</td>\n",
       "      <td>...</td>\n",
       "    </tr>\n",
       "    <tr>\n",
       "      <th>5657</th>\n",
       "      <td>49.2</td>\n",
       "      <td>32.2</td>\n",
       "    </tr>\n",
       "    <tr>\n",
       "      <th>5658</th>\n",
       "      <td>52.3</td>\n",
       "      <td>31.6</td>\n",
       "    </tr>\n",
       "    <tr>\n",
       "      <th>5659</th>\n",
       "      <td>56.2</td>\n",
       "      <td>34.0</td>\n",
       "    </tr>\n",
       "    <tr>\n",
       "      <th>5660</th>\n",
       "      <td>19.1</td>\n",
       "      <td>6.2</td>\n",
       "    </tr>\n",
       "    <tr>\n",
       "      <th>5661</th>\n",
       "      <td>36.4</td>\n",
       "      <td>7.7</td>\n",
       "    </tr>\n",
       "  </tbody>\n",
       "</table>\n",
       "<p>5662 rows × 2 columns</p>\n",
       "</div>"
      ],
      "text/plain": [
       "      Median  State_Rate\n",
       "0       51.5        49.9\n",
       "1       69.6        65.6\n",
       "2       51.5        49.3\n",
       "3       69.6        64.8\n",
       "4       22.8        17.9\n",
       "...      ...         ...\n",
       "5657    49.2        32.2\n",
       "5658    52.3        31.6\n",
       "5659    56.2        34.0\n",
       "5660    19.1         6.2\n",
       "5661    36.4         7.7\n",
       "\n",
       "[5662 rows x 2 columns]"
      ]
     },
     "execution_count": 52,
     "metadata": {},
     "output_type": "execute_result"
    }
   ],
   "source": [
    "# Create a table of the \"Median\" and \"State_Rate\" columns\n",
    "df[['Median', 'State_Rate']]"
   ]
  },
  {
   "cell_type": "code",
   "execution_count": null,
   "metadata": {},
   "outputs": [],
   "source": []
  },
  {
   "cell_type": "markdown",
   "metadata": {},
   "source": [
    "# Targeted Data Analysis\n",
    "#### In this section, I start to clean and analyze data that distinguishing between measures where higher rates indicate better performance versus those where lower rates are preferred, allowing meaningful comparisons across different healthcare metrics and outcomes. I struggled at first to perform the analysis and retrieve the correct data from the imported file, but was ultimatly able to troubleshoot and extract the proper values.\n",
    "\n"
   ]
  },
  {
   "cell_type": "markdown",
   "metadata": {},
   "source": [
    "### I am aiming to organize and separate the data according to when ***Higher rates are better for the measure*** and ***Lower rates are better for the measure*** \n",
    "### These categorical data points are the only two values indicated in the column `Measure Type` \n",
    "\n",
    ">  The \"measures\" in question are health care services provided to children and adults in US states. These are values indicated in the column `Measure Name`"
   ]
  },
  {
   "cell_type": "code",
   "execution_count": 150,
   "metadata": {},
   "outputs": [
    {
     "data": {
      "application/vnd.microsoft.datawrangler.viewer.v0+json": {
       "columns": [
        {
         "name": "index",
         "rawType": "int64",
         "type": "integer"
        },
        {
         "name": "State",
         "rawType": "object",
         "type": "string"
        },
        {
         "name": "Domain",
         "rawType": "object",
         "type": "string"
        },
        {
         "name": "Reporting Program",
         "rawType": "object",
         "type": "string"
        },
        {
         "name": "Measure Name",
         "rawType": "object",
         "type": "string"
        },
        {
         "name": "Measure Abbreviation",
         "rawType": "object",
         "type": "string"
        },
        {
         "name": "Measure Type",
         "rawType": "float64",
         "type": "float"
        },
        {
         "name": "Rate Definition",
         "rawType": "object",
         "type": "string"
        },
        {
         "name": "Core Set Year",
         "rawType": "int64",
         "type": "integer"
        },
        {
         "name": "Population",
         "rawType": "object",
         "type": "string"
        },
        {
         "name": "Methodology",
         "rawType": "object",
         "type": "string"
        },
        {
         "name": "State_Rate",
         "rawType": "float64",
         "type": "float"
        },
        {
         "name": "Number of States Reporting",
         "rawType": "int64",
         "type": "integer"
        },
        {
         "name": "Median",
         "rawType": "float64",
         "type": "float"
        },
        {
         "name": "Bottom Quartile",
         "rawType": "float64",
         "type": "float"
        },
        {
         "name": "Top Quartile",
         "rawType": "float64",
         "type": "float"
        },
        {
         "name": "Notes",
         "rawType": "object",
         "type": "unknown"
        },
        {
         "name": "Source",
         "rawType": "object",
         "type": "string"
        },
        {
         "name": "State-Specific Comments",
         "rawType": "object",
         "type": "string"
        },
        {
         "name": "Rate Used in Calculating State Mean and Median",
         "rawType": "object",
         "type": "string"
        }
       ],
       "conversionMethod": "pd.DataFrame",
       "ref": "0bff0ca9-613b-46fe-92df-c38f85cb9b54",
       "rows": [
        [
         "0",
         "Alabama",
         "Behavioral Health Care",
         "Child Core Set",
         "Follow-Up After Emergency Department Visit for Mental Illness: Ages 6 to 17",
         "FUM-CH",
         "-1.0",
         "Percentage of Emergency Department (ED) Visits for Mental Illness or Intentional Self-Harm with a Follow-Up Visit Within 7 Days of the ED Visit: Ages 6 to 17",
         "2023",
         "Medicaid only",
         "Administrative",
         "49.9",
         "48",
         "51.5",
         "42.5",
         "60.9",
         null,
         "Mathematica analysis of the Quality Measure Reporting (QMR) system reports for the 2023 Core Set as of May 16, 2024.",
         "Medicaid rates include FFS and PCCM populations.",
         "Yes"
        ],
        [
         "1",
         "Alabama",
         "Behavioral Health Care",
         "Child Core Set",
         "Follow-Up After Emergency Department Visit for Mental Illness: Ages 6 to 17",
         "FUM-CH",
         "-1.0",
         "Percentage of Emergency Department (ED) Visits for Mental Illness or Intentional Self-Harm with a Follow-Up Visit Within 30 Days of the ED Visit: Ages 6 to 17",
         "2023",
         "Medicaid only",
         "Administrative",
         "65.6",
         "48",
         "69.6",
         "61.8",
         "76.0",
         null,
         "Mathematica analysis of the Quality Measure Reporting (QMR) system reports for the 2023 Core Set as of May 16, 2024.",
         "Medicaid rates include FFS and PCCM populations.",
         "Yes"
        ],
        [
         "2",
         "Alabama",
         "Behavioral Health Care",
         "Child Core Set",
         "Follow-Up After Emergency Department Visit for Mental Illness: Ages 6 to 17",
         "FUM-CH",
         "-1.0",
         "Percentage of Emergency Department (ED) Visits for Mental Illness or Intentional Self-Harm with a Follow-Up Visit Within 7 Days of the ED Visit: Ages 6 to 17",
         "2023",
         "CHIP only",
         "Administrative",
         "49.3",
         "48",
         "51.5",
         "42.5",
         "60.9",
         null,
         "Mathematica analysis of the Quality Measure Reporting (QMR) system reports for the 2023 Core Set as of May 16, 2024.",
         "CHIP rates include FFS population. The state described the \"other\" data source used to calculate the measure as the following: \"Separate CHIP claims data.\"",
         "No"
        ],
        [
         "3",
         "Alabama",
         "Behavioral Health Care",
         "Child Core Set",
         "Follow-Up After Emergency Department Visit for Mental Illness: Ages 6 to 17",
         "FUM-CH",
         "-1.0",
         "Percentage of Emergency Department (ED) Visits for Mental Illness or Intentional Self-Harm with a Follow-Up Visit Within 30 Days of the ED Visit: Ages 6 to 17",
         "2023",
         "CHIP only",
         "Administrative",
         "64.8",
         "48",
         "69.6",
         "61.8",
         "76.0",
         null,
         "Mathematica analysis of the Quality Measure Reporting (QMR) system reports for the 2023 Core Set as of May 16, 2024.",
         "CHIP rates include FFS population. The state described the \"other\" data source used to calculate the measure as the following: \"Separate CHIP claims data.\"",
         "No"
        ],
        [
         "4",
         "Alabama",
         "Behavioral Health Care",
         "Child Core Set",
         "Follow-Up After Emergency Department Visit for Substance Use: Ages 13 to 17",
         "FUA-CH",
         "-1.0",
         "Percentage of Emergency Department (ED) Visits for Substance Use Disorder (SUD) or Drug Overdose with a Follow-Up Visit Within 7 Days of the ED Visit: Ages 13 to 17",
         "2023",
         "Medicaid only",
         "Administrative",
         "17.9",
         "41",
         "22.8",
         "19.5",
         "28.3",
         null,
         "Mathematica analysis of the Quality Measure Reporting (QMR) system reports for the 2023 Core Set as of May 16, 2024.",
         "Medicaid rates include FFS and PCCM populations. Rates were audited or validated.",
         "Yes"
        ]
       ],
       "shape": {
        "columns": 19,
        "rows": 5
       }
      },
      "text/html": [
       "<div>\n",
       "<style scoped>\n",
       "    .dataframe tbody tr th:only-of-type {\n",
       "        vertical-align: middle;\n",
       "    }\n",
       "\n",
       "    .dataframe tbody tr th {\n",
       "        vertical-align: top;\n",
       "    }\n",
       "\n",
       "    .dataframe thead th {\n",
       "        text-align: right;\n",
       "    }\n",
       "</style>\n",
       "<table border=\"1\" class=\"dataframe\">\n",
       "  <thead>\n",
       "    <tr style=\"text-align: right;\">\n",
       "      <th></th>\n",
       "      <th>State</th>\n",
       "      <th>Domain</th>\n",
       "      <th>Reporting Program</th>\n",
       "      <th>Measure Name</th>\n",
       "      <th>Measure Abbreviation</th>\n",
       "      <th>Measure Type</th>\n",
       "      <th>Rate Definition</th>\n",
       "      <th>Core Set Year</th>\n",
       "      <th>Population</th>\n",
       "      <th>Methodology</th>\n",
       "      <th>State_Rate</th>\n",
       "      <th>Number of States Reporting</th>\n",
       "      <th>Median</th>\n",
       "      <th>Bottom Quartile</th>\n",
       "      <th>Top Quartile</th>\n",
       "      <th>Notes</th>\n",
       "      <th>Source</th>\n",
       "      <th>State-Specific Comments</th>\n",
       "      <th>Rate Used in Calculating State Mean and Median</th>\n",
       "    </tr>\n",
       "  </thead>\n",
       "  <tbody>\n",
       "    <tr>\n",
       "      <th>0</th>\n",
       "      <td>Alabama</td>\n",
       "      <td>Behavioral Health Care</td>\n",
       "      <td>Child Core Set</td>\n",
       "      <td>Follow-Up After Emergency Department Visit for...</td>\n",
       "      <td>FUM-CH</td>\n",
       "      <td>-1.0</td>\n",
       "      <td>Percentage of Emergency Department (ED) Visits...</td>\n",
       "      <td>2023</td>\n",
       "      <td>Medicaid only</td>\n",
       "      <td>Administrative</td>\n",
       "      <td>49.9</td>\n",
       "      <td>48</td>\n",
       "      <td>51.5</td>\n",
       "      <td>42.5</td>\n",
       "      <td>60.9</td>\n",
       "      <td>NaN</td>\n",
       "      <td>Mathematica analysis of the Quality Measure Re...</td>\n",
       "      <td>Medicaid rates include FFS and PCCM populations.</td>\n",
       "      <td>Yes</td>\n",
       "    </tr>\n",
       "    <tr>\n",
       "      <th>1</th>\n",
       "      <td>Alabama</td>\n",
       "      <td>Behavioral Health Care</td>\n",
       "      <td>Child Core Set</td>\n",
       "      <td>Follow-Up After Emergency Department Visit for...</td>\n",
       "      <td>FUM-CH</td>\n",
       "      <td>-1.0</td>\n",
       "      <td>Percentage of Emergency Department (ED) Visits...</td>\n",
       "      <td>2023</td>\n",
       "      <td>Medicaid only</td>\n",
       "      <td>Administrative</td>\n",
       "      <td>65.6</td>\n",
       "      <td>48</td>\n",
       "      <td>69.6</td>\n",
       "      <td>61.8</td>\n",
       "      <td>76.0</td>\n",
       "      <td>NaN</td>\n",
       "      <td>Mathematica analysis of the Quality Measure Re...</td>\n",
       "      <td>Medicaid rates include FFS and PCCM populations.</td>\n",
       "      <td>Yes</td>\n",
       "    </tr>\n",
       "    <tr>\n",
       "      <th>2</th>\n",
       "      <td>Alabama</td>\n",
       "      <td>Behavioral Health Care</td>\n",
       "      <td>Child Core Set</td>\n",
       "      <td>Follow-Up After Emergency Department Visit for...</td>\n",
       "      <td>FUM-CH</td>\n",
       "      <td>-1.0</td>\n",
       "      <td>Percentage of Emergency Department (ED) Visits...</td>\n",
       "      <td>2023</td>\n",
       "      <td>CHIP only</td>\n",
       "      <td>Administrative</td>\n",
       "      <td>49.3</td>\n",
       "      <td>48</td>\n",
       "      <td>51.5</td>\n",
       "      <td>42.5</td>\n",
       "      <td>60.9</td>\n",
       "      <td>NaN</td>\n",
       "      <td>Mathematica analysis of the Quality Measure Re...</td>\n",
       "      <td>CHIP rates include FFS population. The state d...</td>\n",
       "      <td>No</td>\n",
       "    </tr>\n",
       "    <tr>\n",
       "      <th>3</th>\n",
       "      <td>Alabama</td>\n",
       "      <td>Behavioral Health Care</td>\n",
       "      <td>Child Core Set</td>\n",
       "      <td>Follow-Up After Emergency Department Visit for...</td>\n",
       "      <td>FUM-CH</td>\n",
       "      <td>-1.0</td>\n",
       "      <td>Percentage of Emergency Department (ED) Visits...</td>\n",
       "      <td>2023</td>\n",
       "      <td>CHIP only</td>\n",
       "      <td>Administrative</td>\n",
       "      <td>64.8</td>\n",
       "      <td>48</td>\n",
       "      <td>69.6</td>\n",
       "      <td>61.8</td>\n",
       "      <td>76.0</td>\n",
       "      <td>NaN</td>\n",
       "      <td>Mathematica analysis of the Quality Measure Re...</td>\n",
       "      <td>CHIP rates include FFS population. The state d...</td>\n",
       "      <td>No</td>\n",
       "    </tr>\n",
       "    <tr>\n",
       "      <th>4</th>\n",
       "      <td>Alabama</td>\n",
       "      <td>Behavioral Health Care</td>\n",
       "      <td>Child Core Set</td>\n",
       "      <td>Follow-Up After Emergency Department Visit for...</td>\n",
       "      <td>FUA-CH</td>\n",
       "      <td>-1.0</td>\n",
       "      <td>Percentage of Emergency Department (ED) Visits...</td>\n",
       "      <td>2023</td>\n",
       "      <td>Medicaid only</td>\n",
       "      <td>Administrative</td>\n",
       "      <td>17.9</td>\n",
       "      <td>41</td>\n",
       "      <td>22.8</td>\n",
       "      <td>19.5</td>\n",
       "      <td>28.3</td>\n",
       "      <td>NaN</td>\n",
       "      <td>Mathematica analysis of the Quality Measure Re...</td>\n",
       "      <td>Medicaid rates include FFS and PCCM population...</td>\n",
       "      <td>Yes</td>\n",
       "    </tr>\n",
       "  </tbody>\n",
       "</table>\n",
       "</div>"
      ],
      "text/plain": [
       "     State                  Domain Reporting Program  \\\n",
       "0  Alabama  Behavioral Health Care    Child Core Set   \n",
       "1  Alabama  Behavioral Health Care    Child Core Set   \n",
       "2  Alabama  Behavioral Health Care    Child Core Set   \n",
       "3  Alabama  Behavioral Health Care    Child Core Set   \n",
       "4  Alabama  Behavioral Health Care    Child Core Set   \n",
       "\n",
       "                                        Measure Name Measure Abbreviation  \\\n",
       "0  Follow-Up After Emergency Department Visit for...               FUM-CH   \n",
       "1  Follow-Up After Emergency Department Visit for...               FUM-CH   \n",
       "2  Follow-Up After Emergency Department Visit for...               FUM-CH   \n",
       "3  Follow-Up After Emergency Department Visit for...               FUM-CH   \n",
       "4  Follow-Up After Emergency Department Visit for...               FUA-CH   \n",
       "\n",
       "   Measure Type                                    Rate Definition  \\\n",
       "0          -1.0  Percentage of Emergency Department (ED) Visits...   \n",
       "1          -1.0  Percentage of Emergency Department (ED) Visits...   \n",
       "2          -1.0  Percentage of Emergency Department (ED) Visits...   \n",
       "3          -1.0  Percentage of Emergency Department (ED) Visits...   \n",
       "4          -1.0  Percentage of Emergency Department (ED) Visits...   \n",
       "\n",
       "   Core Set Year     Population     Methodology  State_Rate  \\\n",
       "0           2023  Medicaid only  Administrative        49.9   \n",
       "1           2023  Medicaid only  Administrative        65.6   \n",
       "2           2023      CHIP only  Administrative        49.3   \n",
       "3           2023      CHIP only  Administrative        64.8   \n",
       "4           2023  Medicaid only  Administrative        17.9   \n",
       "\n",
       "   Number of States Reporting  Median  Bottom Quartile  Top Quartile Notes  \\\n",
       "0                          48    51.5             42.5          60.9   NaN   \n",
       "1                          48    69.6             61.8          76.0   NaN   \n",
       "2                          48    51.5             42.5          60.9   NaN   \n",
       "3                          48    69.6             61.8          76.0   NaN   \n",
       "4                          41    22.8             19.5          28.3   NaN   \n",
       "\n",
       "                                              Source  \\\n",
       "0  Mathematica analysis of the Quality Measure Re...   \n",
       "1  Mathematica analysis of the Quality Measure Re...   \n",
       "2  Mathematica analysis of the Quality Measure Re...   \n",
       "3  Mathematica analysis of the Quality Measure Re...   \n",
       "4  Mathematica analysis of the Quality Measure Re...   \n",
       "\n",
       "                             State-Specific Comments  \\\n",
       "0   Medicaid rates include FFS and PCCM populations.   \n",
       "1   Medicaid rates include FFS and PCCM populations.   \n",
       "2  CHIP rates include FFS population. The state d...   \n",
       "3  CHIP rates include FFS population. The state d...   \n",
       "4  Medicaid rates include FFS and PCCM population...   \n",
       "\n",
       "  Rate Used in Calculating State Mean and Median  \n",
       "0                                            Yes  \n",
       "1                                            Yes  \n",
       "2                                             No  \n",
       "3                                             No  \n",
       "4                                            Yes  "
      ]
     },
     "execution_count": 150,
     "metadata": {},
     "output_type": "execute_result"
    }
   ],
   "source": [
    "# View the first 5 rows of the dataframe\n",
    "df.head()"
   ]
  },
  {
   "cell_type": "code",
   "execution_count": 146,
   "metadata": {},
   "outputs": [
    {
     "data": {
      "text/plain": [
       "(5662, 19)"
      ]
     },
     "execution_count": 146,
     "metadata": {},
     "output_type": "execute_result"
    }
   ],
   "source": [
    "# Return the shape of the dataframe\n",
    "df.shape # Returns a tuple with number of rows and columns"
   ]
  },
  {
   "cell_type": "code",
   "execution_count": 147,
   "metadata": {},
   "outputs": [
    {
     "name": "stdout",
     "output_type": "stream",
     "text": [
      "<class 'pandas.core.frame.DataFrame'>\n",
      "RangeIndex: 5662 entries, 0 to 5661\n",
      "Data columns (total 19 columns):\n",
      " #   Column                                          Non-Null Count  Dtype  \n",
      "---  ------                                          --------------  -----  \n",
      " 0   State                                           5662 non-null   object \n",
      " 1   Domain                                          5662 non-null   object \n",
      " 2   Reporting Program                               5662 non-null   object \n",
      " 3   Measure Name                                    5662 non-null   object \n",
      " 4   Measure Abbreviation                            5662 non-null   object \n",
      " 5   Measure Type                                    5662 non-null   float64\n",
      " 6   Rate Definition                                 5662 non-null   object \n",
      " 7   Core Set Year                                   5662 non-null   int64  \n",
      " 8   Population                                      5662 non-null   object \n",
      " 9   Methodology                                     5662 non-null   object \n",
      " 10  State_Rate                                      5424 non-null   float64\n",
      " 11  Number of States Reporting                      5662 non-null   int64  \n",
      " 12  Median                                          5662 non-null   float64\n",
      " 13  Bottom Quartile                                 5662 non-null   float64\n",
      " 14  Top Quartile                                    5662 non-null   float64\n",
      " 15  Notes                                           238 non-null    object \n",
      " 16  Source                                          5662 non-null   object \n",
      " 17  State-Specific Comments                         5610 non-null   object \n",
      " 18  Rate Used in Calculating State Mean and Median  5662 non-null   object \n",
      "dtypes: float64(5), int64(2), object(12)\n",
      "memory usage: 840.6+ KB\n"
     ]
    }
   ],
   "source": [
    "# Return info about the dataframe\n",
    "df.info()"
   ]
  },
  {
   "cell_type": "code",
   "execution_count": 140,
   "metadata": {},
   "outputs": [],
   "source": [
    "# Assign the Measure Type column in df to the variable measure_type\n",
    "measure_type = df['Measure Type']"
   ]
  },
  {
   "cell_type": "code",
   "execution_count": 167,
   "metadata": {},
   "outputs": [],
   "source": [
    "# Reassign the column name \"Measure Type\" to \"Measure_Type\"\n",
    "df = df.rename(columns = {\"Measure Type\": \"Measure_Type\"})"
   ]
  },
  {
   "cell_type": "code",
   "execution_count": null,
   "metadata": {},
   "outputs": [
    {
     "name": "stdout",
     "output_type": "stream",
     "text": [
      "<class 'pandas.core.series.Series'>\n"
     ]
    }
   ],
   "source": [
    "# Print the type of measure_type variable\n",
    "print(type(measure_type))"
   ]
  },
  {
   "cell_type": "markdown",
   "metadata": {},
   "source": [
    "### I had been struggling to represent the values **lower rates are better** and **higher rates are better** as unique classes/values in the `Measure Type` column. I have attempted to use many functions, including  \"Determine,\" \"Print,\" assigning  variables to each of the values, using the loc method and creating tables, and each time I have been met with an error, or the values are shown = [-1]. Examples of this are shown below:"
   ]
  },
  {
   "cell_type": "code",
   "execution_count": 158,
   "metadata": {},
   "outputs": [
    {
     "data": {
      "text/plain": [
       "array([-1.])"
      ]
     },
     "execution_count": 158,
     "metadata": {},
     "output_type": "execute_result"
    }
   ],
   "source": [
    "# Determine the unique classes for the measure_type variable\n",
    "measure_type.unique()"
   ]
  },
  {
   "cell_type": "code",
   "execution_count": 153,
   "metadata": {},
   "outputs": [
    {
     "name": "stdout",
     "output_type": "stream",
     "text": [
      "0   -1.0\n",
      "1   -1.0\n",
      "2   -1.0\n",
      "3   -1.0\n",
      "4   -1.0\n",
      "Name: Measure Type, dtype: float64\n"
     ]
    }
   ],
   "source": [
    "# Print the first 5 rows of the measure_type variable\n",
    "print(measure_type.head())"
   ]
  },
  {
   "cell_type": "code",
   "execution_count": 168,
   "metadata": {},
   "outputs": [],
   "source": [
    "# Assign the Measure Type column in df to the variable measure_type using dot notation\n",
    "measure_type = df.Measure_Type"
   ]
  },
  {
   "cell_type": "code",
   "execution_count": 170,
   "metadata": {},
   "outputs": [
    {
     "name": "stdout",
     "output_type": "stream",
     "text": [
      "0   -1.0\n",
      "1   -1.0\n",
      "2   -1.0\n",
      "3   -1.0\n",
      "4   -1.0\n",
      "Name: Measure_Type, dtype: float64\n"
     ]
    }
   ],
   "source": [
    "# Print the first 5 rows of measure_type\n",
    "print(measure_type.head())"
   ]
  },
  {
   "cell_type": "code",
   "execution_count": 185,
   "metadata": {},
   "outputs": [
    {
     "data": {
      "text/plain": [
       "count    5662.0\n",
       "mean       -1.0\n",
       "std         0.0\n",
       "min        -1.0\n",
       "25%        -1.0\n",
       "50%        -1.0\n",
       "75%        -1.0\n",
       "max        -1.0\n",
       "Name: Measure_Type, dtype: float64"
      ]
     },
     "execution_count": 185,
     "metadata": {},
     "output_type": "execute_result"
    }
   ],
   "source": [
    "# insert data summary about the column Measure_Type\n",
    "df.Measure_Type.describe()"
   ]
  },
  {
   "cell_type": "code",
   "execution_count": null,
   "metadata": {},
   "outputs": [
    {
     "data": {
      "application/vnd.microsoft.datawrangler.viewer.v0+json": {
       "columns": [
        {
         "name": "index",
         "rawType": "int64",
         "type": "integer"
        },
        {
         "name": "Measure Name",
         "rawType": "object",
         "type": "string"
        },
        {
         "name": "Measure Type",
         "rawType": "float64",
         "type": "float"
        }
       ],
       "conversionMethod": "pd.DataFrame",
       "ref": "9fa6240d-eaca-4721-8d9b-d538445532ca",
       "rows": [
        [
         "0",
         "Follow-Up After Emergency Department Visit for Mental Illness: Ages 6 to 17",
         "-1.0"
        ],
        [
         "4",
         "Follow-Up After Emergency Department Visit for Substance Use: Ages 13 to 17",
         "-1.0"
        ],
        [
         "8",
         "Follow-Up After Hospitalization for Mental Illness: Ages 6 to 17",
         "-1.0"
        ],
        [
         "12",
         "Follow-Up Care for Children Prescribed Attention-Deficit/Hyperactivity Disorder (ADHD) Medication: Ages 6 to 12",
         "-1.0"
        ],
        [
         "16",
         "Metabolic Monitoring for Children and Adolescents on Antipsychotics: Ages 1 to 17",
         "-1.0"
        ],
        [
         "22",
         "Use of First-Line Psychosocial Care for Children and Adolescents on Antipsychotics: Ages 1 to 17",
         "-1.0"
        ],
        [
         "24",
         "Ambulatory Care: Emergency Department (ED) Visits: Ages 0 to 19",
         "-1.0"
        ],
        [
         "26",
         "Asthma Medication Ratio: Ages 5 to 18",
         "-1.0"
        ],
        [
         "32",
         "Avoidance of Antibiotic Treatment for Acute Bronchitis/Bronchiolitis: Ages 3 Months to 17 Years",
         "-1.0"
        ],
        [
         "34",
         "Oral Evaluation, Dental Services: Ages <1 through 20",
         "-1.0"
        ],
        [
         "36",
         "Sealant Receipt on Permanent First Molars: Age 10",
         "-1.0"
        ],
        [
         "40",
         "Topical Fluoride for Children: Ages 1 through 20",
         "-1.0"
        ],
        [
         "42",
         "CAHPS Health Plan Survey 5.1H - Child Version Including Medicaid and Children with Chronic Conditions Supplemental Items: Ages 0 to 17",
         "-1.0"
        ],
        [
         "58",
         "Contraceptive Care - All Women Ages 15 to 20",
         "-1.0"
        ],
        [
         "62",
         "Contraceptive Care - Postpartum Women Ages 15 to 20",
         "-1.0"
        ],
        [
         "70",
         "Live Births Weighing Less Than 2,500 Grams",
         "-1.0"
        ],
        [
         "71",
         "Low-Risk Cesarean Delivery",
         "-1.0"
        ],
        [
         "72",
         "Prenatal and Postpartum Care: Timeliness of Prenatal Care",
         "-1.0"
        ],
        [
         "74",
         "Child and Adolescent Well-Care Visits: Ages 3 to 21",
         "-1.0"
        ],
        [
         "82",
         "Childhood Immunization Status: Age 2",
         "-1.0"
        ],
        [
         "90",
         "Chlamydia Screening in Women Ages 16 to 20",
         "-1.0"
        ],
        [
         "92",
         "Developmental Screening in the First Three Years of Life: Ages 0 to 3",
         "-1.0"
        ],
        [
         "94",
         "Immunizations for Adolescents: Age 13",
         "-1.0"
        ],
        [
         "98",
         "Lead Screening in Children: Age 2",
         "-1.0"
        ],
        [
         "100",
         "Weight Assessment and Counseling for Nutrition and Physical Activity for Children/Adolescents: Ages 3 to 17",
         "-1.0"
        ],
        [
         "106",
         "Well-Child Visits in the First 30 Months of Life",
         "-1.0"
        ],
        [
         "3105",
         "Adherence to Antipsychotic Medications for Individuals with Schizophrenia: Age 18 and Older",
         "-1.0"
        ],
        [
         "3106",
         "Antidepressant Medication Management: Age 18 and Older",
         "-1.0"
        ],
        [
         "3108",
         "Diabetes Screening for People with Schizophrenia or Bipolar Disorder Who Are Using Antipsychotic Medications: Ages 18 to 64",
         "-1.0"
        ],
        [
         "3109",
         "Follow-Up After Emergency Department Visit for Mental Illness: Age 18 and Older",
         "-1.0"
        ],
        [
         "3111",
         "Follow-Up After Emergency Department Visit for Substance Use: Age 18 and Older",
         "-1.0"
        ],
        [
         "3113",
         "Follow-Up After Hospitalization for Mental Illness: Age 18 and Older",
         "-1.0"
        ],
        [
         "3115",
         "Initiation and Engagement of Substance Use Disorder Treatment: Age 18 and Older",
         "-1.0"
        ],
        [
         "3123",
         "Medical Assistance With Smoking and Tobacco Use Cessation: Age 18 and Older",
         "-1.0"
        ],
        [
         "3126",
         "Use of Pharmacotherapy for Opioid Use Disorder: Ages 18 to 64",
         "-1.0"
        ],
        [
         "3127",
         "Asthma Medication Ratio: Ages 19 to 64",
         "-1.0"
        ],
        [
         "3130",
         "Avoidance of Antibiotic Treatment for Acute Bronchitis/Bronchiolitis: Age 18 and Older",
         "-1.0"
        ],
        [
         "3131",
         "Concurrent Use of Opioids and Benzodiazepines: Age 18 and Older",
         "-1.0"
        ],
        [
         "3132",
         "Controlling High Blood Pressure: Ages 18 to 85",
         "-1.0"
        ],
        [
         "3133",
         "Hemoglobin A1c Control for Patients with Diabetes: Ages 18 to 75",
         "-1.0"
        ],
        [
         "3135",
         "PQI 01: Diabetes Short-Term Complications Admission Rate: Age 18 and Older",
         "-1.0"
        ],
        [
         "3136",
         "PQI 05: Chronic Obstructive Pulmonary Disease (COPD) or Asthma in Older Adults Admission Rate: Age 40 and Older",
         "-1.0"
        ],
        [
         "3137",
         "PQI 08: Heart Failure Admission Rate: Age 18 and Older",
         "-1.0"
        ],
        [
         "3138",
         "PQI 15: Asthma in Younger Adults Admission Rate: Ages 18 to 39",
         "-1.0"
        ],
        [
         "3139",
         "Use of Opioids at High Dosage in Persons Without Cancer: Age 18 and Older",
         "-1.0"
        ],
        [
         "3140",
         "CAHPS Health Plan Survey 5.1H, Adult Version (Medicaid): Age 18 and Older",
         "-1.0"
        ],
        [
         "3148",
         "National Core Indicators Survey: Age 18 and Older",
         "-1.0"
        ],
        [
         "3151",
         "Contraceptive Care - All Women Ages 21 to 44",
         "-1.0"
        ],
        [
         "3153",
         "Contraceptive Care - Postpartum Women Ages 21 to 44",
         "-1.0"
        ],
        [
         "3157",
         "Prenatal and Postpartum Care: Postpartum Care",
         "-1.0"
        ]
       ],
       "shape": {
        "columns": 2,
        "rows": 56
       }
      },
      "text/html": [
       "<div>\n",
       "<style scoped>\n",
       "    .dataframe tbody tr th:only-of-type {\n",
       "        vertical-align: middle;\n",
       "    }\n",
       "\n",
       "    .dataframe tbody tr th {\n",
       "        vertical-align: top;\n",
       "    }\n",
       "\n",
       "    .dataframe thead th {\n",
       "        text-align: right;\n",
       "    }\n",
       "</style>\n",
       "<table border=\"1\" class=\"dataframe\">\n",
       "  <thead>\n",
       "    <tr style=\"text-align: right;\">\n",
       "      <th></th>\n",
       "      <th>Measure Name</th>\n",
       "      <th>Measure Type</th>\n",
       "    </tr>\n",
       "  </thead>\n",
       "  <tbody>\n",
       "    <tr>\n",
       "      <th>0</th>\n",
       "      <td>Follow-Up After Emergency Department Visit for...</td>\n",
       "      <td>-1.0</td>\n",
       "    </tr>\n",
       "    <tr>\n",
       "      <th>4</th>\n",
       "      <td>Follow-Up After Emergency Department Visit for...</td>\n",
       "      <td>-1.0</td>\n",
       "    </tr>\n",
       "    <tr>\n",
       "      <th>8</th>\n",
       "      <td>Follow-Up After Hospitalization for Mental Ill...</td>\n",
       "      <td>-1.0</td>\n",
       "    </tr>\n",
       "    <tr>\n",
       "      <th>12</th>\n",
       "      <td>Follow-Up Care for Children Prescribed Attenti...</td>\n",
       "      <td>-1.0</td>\n",
       "    </tr>\n",
       "    <tr>\n",
       "      <th>16</th>\n",
       "      <td>Metabolic Monitoring for Children and Adolesce...</td>\n",
       "      <td>-1.0</td>\n",
       "    </tr>\n",
       "    <tr>\n",
       "      <th>22</th>\n",
       "      <td>Use of First-Line Psychosocial Care for Childr...</td>\n",
       "      <td>-1.0</td>\n",
       "    </tr>\n",
       "    <tr>\n",
       "      <th>24</th>\n",
       "      <td>Ambulatory Care: Emergency Department (ED) Vis...</td>\n",
       "      <td>-1.0</td>\n",
       "    </tr>\n",
       "    <tr>\n",
       "      <th>26</th>\n",
       "      <td>Asthma Medication Ratio: Ages 5 to 18</td>\n",
       "      <td>-1.0</td>\n",
       "    </tr>\n",
       "    <tr>\n",
       "      <th>32</th>\n",
       "      <td>Avoidance of Antibiotic Treatment for Acute Br...</td>\n",
       "      <td>-1.0</td>\n",
       "    </tr>\n",
       "    <tr>\n",
       "      <th>34</th>\n",
       "      <td>Oral Evaluation, Dental Services: Ages &lt;1 thro...</td>\n",
       "      <td>-1.0</td>\n",
       "    </tr>\n",
       "    <tr>\n",
       "      <th>36</th>\n",
       "      <td>Sealant Receipt on Permanent First Molars: Age 10</td>\n",
       "      <td>-1.0</td>\n",
       "    </tr>\n",
       "    <tr>\n",
       "      <th>40</th>\n",
       "      <td>Topical Fluoride for Children: Ages 1 through 20</td>\n",
       "      <td>-1.0</td>\n",
       "    </tr>\n",
       "    <tr>\n",
       "      <th>42</th>\n",
       "      <td>CAHPS Health Plan Survey 5.1H - Child Version ...</td>\n",
       "      <td>-1.0</td>\n",
       "    </tr>\n",
       "    <tr>\n",
       "      <th>58</th>\n",
       "      <td>Contraceptive Care - All Women Ages 15 to 20</td>\n",
       "      <td>-1.0</td>\n",
       "    </tr>\n",
       "    <tr>\n",
       "      <th>62</th>\n",
       "      <td>Contraceptive Care - Postpartum Women Ages 15 ...</td>\n",
       "      <td>-1.0</td>\n",
       "    </tr>\n",
       "    <tr>\n",
       "      <th>70</th>\n",
       "      <td>Live Births Weighing Less Than 2,500 Grams</td>\n",
       "      <td>-1.0</td>\n",
       "    </tr>\n",
       "    <tr>\n",
       "      <th>71</th>\n",
       "      <td>Low-Risk Cesarean Delivery</td>\n",
       "      <td>-1.0</td>\n",
       "    </tr>\n",
       "    <tr>\n",
       "      <th>72</th>\n",
       "      <td>Prenatal and Postpartum Care: Timeliness of Pr...</td>\n",
       "      <td>-1.0</td>\n",
       "    </tr>\n",
       "    <tr>\n",
       "      <th>74</th>\n",
       "      <td>Child and Adolescent Well-Care Visits: Ages 3 ...</td>\n",
       "      <td>-1.0</td>\n",
       "    </tr>\n",
       "    <tr>\n",
       "      <th>82</th>\n",
       "      <td>Childhood Immunization Status: Age 2</td>\n",
       "      <td>-1.0</td>\n",
       "    </tr>\n",
       "    <tr>\n",
       "      <th>90</th>\n",
       "      <td>Chlamydia Screening in Women Ages 16 to 20</td>\n",
       "      <td>-1.0</td>\n",
       "    </tr>\n",
       "    <tr>\n",
       "      <th>92</th>\n",
       "      <td>Developmental Screening in the First Three Yea...</td>\n",
       "      <td>-1.0</td>\n",
       "    </tr>\n",
       "    <tr>\n",
       "      <th>94</th>\n",
       "      <td>Immunizations for Adolescents: Age 13</td>\n",
       "      <td>-1.0</td>\n",
       "    </tr>\n",
       "    <tr>\n",
       "      <th>98</th>\n",
       "      <td>Lead Screening in Children: Age 2</td>\n",
       "      <td>-1.0</td>\n",
       "    </tr>\n",
       "    <tr>\n",
       "      <th>100</th>\n",
       "      <td>Weight Assessment and Counseling for Nutrition...</td>\n",
       "      <td>-1.0</td>\n",
       "    </tr>\n",
       "    <tr>\n",
       "      <th>106</th>\n",
       "      <td>Well-Child Visits in the First 30 Months of Life</td>\n",
       "      <td>-1.0</td>\n",
       "    </tr>\n",
       "    <tr>\n",
       "      <th>3105</th>\n",
       "      <td>Adherence to Antipsychotic Medications for Ind...</td>\n",
       "      <td>-1.0</td>\n",
       "    </tr>\n",
       "    <tr>\n",
       "      <th>3106</th>\n",
       "      <td>Antidepressant Medication Management: Age 18 a...</td>\n",
       "      <td>-1.0</td>\n",
       "    </tr>\n",
       "    <tr>\n",
       "      <th>3108</th>\n",
       "      <td>Diabetes Screening for People with Schizophren...</td>\n",
       "      <td>-1.0</td>\n",
       "    </tr>\n",
       "    <tr>\n",
       "      <th>3109</th>\n",
       "      <td>Follow-Up After Emergency Department Visit for...</td>\n",
       "      <td>-1.0</td>\n",
       "    </tr>\n",
       "    <tr>\n",
       "      <th>3111</th>\n",
       "      <td>Follow-Up After Emergency Department Visit for...</td>\n",
       "      <td>-1.0</td>\n",
       "    </tr>\n",
       "    <tr>\n",
       "      <th>3113</th>\n",
       "      <td>Follow-Up After Hospitalization for Mental Ill...</td>\n",
       "      <td>-1.0</td>\n",
       "    </tr>\n",
       "    <tr>\n",
       "      <th>3115</th>\n",
       "      <td>Initiation and Engagement of Substance Use Dis...</td>\n",
       "      <td>-1.0</td>\n",
       "    </tr>\n",
       "    <tr>\n",
       "      <th>3123</th>\n",
       "      <td>Medical Assistance With Smoking and Tobacco Us...</td>\n",
       "      <td>-1.0</td>\n",
       "    </tr>\n",
       "    <tr>\n",
       "      <th>3126</th>\n",
       "      <td>Use of Pharmacotherapy for Opioid Use Disorder...</td>\n",
       "      <td>-1.0</td>\n",
       "    </tr>\n",
       "    <tr>\n",
       "      <th>3127</th>\n",
       "      <td>Asthma Medication Ratio: Ages 19 to 64</td>\n",
       "      <td>-1.0</td>\n",
       "    </tr>\n",
       "    <tr>\n",
       "      <th>3130</th>\n",
       "      <td>Avoidance of Antibiotic Treatment for Acute Br...</td>\n",
       "      <td>-1.0</td>\n",
       "    </tr>\n",
       "    <tr>\n",
       "      <th>3131</th>\n",
       "      <td>Concurrent Use of Opioids and Benzodiazepines:...</td>\n",
       "      <td>-1.0</td>\n",
       "    </tr>\n",
       "    <tr>\n",
       "      <th>3132</th>\n",
       "      <td>Controlling High Blood Pressure: Ages 18 to 85</td>\n",
       "      <td>-1.0</td>\n",
       "    </tr>\n",
       "    <tr>\n",
       "      <th>3133</th>\n",
       "      <td>Hemoglobin A1c Control for Patients with Diabe...</td>\n",
       "      <td>-1.0</td>\n",
       "    </tr>\n",
       "    <tr>\n",
       "      <th>3135</th>\n",
       "      <td>PQI 01: Diabetes Short-Term Complications Admi...</td>\n",
       "      <td>-1.0</td>\n",
       "    </tr>\n",
       "    <tr>\n",
       "      <th>3136</th>\n",
       "      <td>PQI 05: Chronic Obstructive Pulmonary Disease ...</td>\n",
       "      <td>-1.0</td>\n",
       "    </tr>\n",
       "    <tr>\n",
       "      <th>3137</th>\n",
       "      <td>PQI 08: Heart Failure Admission Rate: Age 18 a...</td>\n",
       "      <td>-1.0</td>\n",
       "    </tr>\n",
       "    <tr>\n",
       "      <th>3138</th>\n",
       "      <td>PQI 15: Asthma in Younger Adults Admission Rat...</td>\n",
       "      <td>-1.0</td>\n",
       "    </tr>\n",
       "    <tr>\n",
       "      <th>3139</th>\n",
       "      <td>Use of Opioids at High Dosage in Persons Witho...</td>\n",
       "      <td>-1.0</td>\n",
       "    </tr>\n",
       "    <tr>\n",
       "      <th>3140</th>\n",
       "      <td>CAHPS Health Plan Survey 5.1H, Adult Version (...</td>\n",
       "      <td>-1.0</td>\n",
       "    </tr>\n",
       "    <tr>\n",
       "      <th>3148</th>\n",
       "      <td>National Core Indicators Survey: Age 18 and Older</td>\n",
       "      <td>-1.0</td>\n",
       "    </tr>\n",
       "    <tr>\n",
       "      <th>3151</th>\n",
       "      <td>Contraceptive Care - All Women Ages 21 to 44</td>\n",
       "      <td>-1.0</td>\n",
       "    </tr>\n",
       "    <tr>\n",
       "      <th>3153</th>\n",
       "      <td>Contraceptive Care - Postpartum Women Ages 21 ...</td>\n",
       "      <td>-1.0</td>\n",
       "    </tr>\n",
       "    <tr>\n",
       "      <th>3157</th>\n",
       "      <td>Prenatal and Postpartum Care: Postpartum Care</td>\n",
       "      <td>-1.0</td>\n",
       "    </tr>\n",
       "    <tr>\n",
       "      <th>3158</th>\n",
       "      <td>Breast Cancer Screening: Ages 50 to 74</td>\n",
       "      <td>-1.0</td>\n",
       "    </tr>\n",
       "    <tr>\n",
       "      <th>3159</th>\n",
       "      <td>Cervical Cancer Screening: Ages 21 to 64</td>\n",
       "      <td>-1.0</td>\n",
       "    </tr>\n",
       "    <tr>\n",
       "      <th>3160</th>\n",
       "      <td>Chlamydia Screening in Women Ages 21 to 24</td>\n",
       "      <td>-1.0</td>\n",
       "    </tr>\n",
       "    <tr>\n",
       "      <th>3161</th>\n",
       "      <td>Colorectal Cancer Screening: Ages 45 to 75</td>\n",
       "      <td>-1.0</td>\n",
       "    </tr>\n",
       "    <tr>\n",
       "      <th>3163</th>\n",
       "      <td>Flu Vaccinations for Adults Ages 18 to 64</td>\n",
       "      <td>-1.0</td>\n",
       "    </tr>\n",
       "    <tr>\n",
       "      <th>3206</th>\n",
       "      <td>Plan All-Cause Readmissions: Ages 18 to 64</td>\n",
       "      <td>-1.0</td>\n",
       "    </tr>\n",
       "  </tbody>\n",
       "</table>\n",
       "</div>"
      ],
      "text/plain": [
       "                                           Measure Name  Measure Type\n",
       "0     Follow-Up After Emergency Department Visit for...          -1.0\n",
       "4     Follow-Up After Emergency Department Visit for...          -1.0\n",
       "8     Follow-Up After Hospitalization for Mental Ill...          -1.0\n",
       "12    Follow-Up Care for Children Prescribed Attenti...          -1.0\n",
       "16    Metabolic Monitoring for Children and Adolesce...          -1.0\n",
       "22    Use of First-Line Psychosocial Care for Childr...          -1.0\n",
       "24    Ambulatory Care: Emergency Department (ED) Vis...          -1.0\n",
       "26                Asthma Medication Ratio: Ages 5 to 18          -1.0\n",
       "32    Avoidance of Antibiotic Treatment for Acute Br...          -1.0\n",
       "34    Oral Evaluation, Dental Services: Ages <1 thro...          -1.0\n",
       "36    Sealant Receipt on Permanent First Molars: Age 10          -1.0\n",
       "40     Topical Fluoride for Children: Ages 1 through 20          -1.0\n",
       "42    CAHPS Health Plan Survey 5.1H - Child Version ...          -1.0\n",
       "58         Contraceptive Care - All Women Ages 15 to 20          -1.0\n",
       "62    Contraceptive Care - Postpartum Women Ages 15 ...          -1.0\n",
       "70           Live Births Weighing Less Than 2,500 Grams          -1.0\n",
       "71                           Low-Risk Cesarean Delivery          -1.0\n",
       "72    Prenatal and Postpartum Care: Timeliness of Pr...          -1.0\n",
       "74    Child and Adolescent Well-Care Visits: Ages 3 ...          -1.0\n",
       "82                 Childhood Immunization Status: Age 2          -1.0\n",
       "90           Chlamydia Screening in Women Ages 16 to 20          -1.0\n",
       "92    Developmental Screening in the First Three Yea...          -1.0\n",
       "94                Immunizations for Adolescents: Age 13          -1.0\n",
       "98                    Lead Screening in Children: Age 2          -1.0\n",
       "100   Weight Assessment and Counseling for Nutrition...          -1.0\n",
       "106    Well-Child Visits in the First 30 Months of Life          -1.0\n",
       "3105  Adherence to Antipsychotic Medications for Ind...          -1.0\n",
       "3106  Antidepressant Medication Management: Age 18 a...          -1.0\n",
       "3108  Diabetes Screening for People with Schizophren...          -1.0\n",
       "3109  Follow-Up After Emergency Department Visit for...          -1.0\n",
       "3111  Follow-Up After Emergency Department Visit for...          -1.0\n",
       "3113  Follow-Up After Hospitalization for Mental Ill...          -1.0\n",
       "3115  Initiation and Engagement of Substance Use Dis...          -1.0\n",
       "3123  Medical Assistance With Smoking and Tobacco Us...          -1.0\n",
       "3126  Use of Pharmacotherapy for Opioid Use Disorder...          -1.0\n",
       "3127             Asthma Medication Ratio: Ages 19 to 64          -1.0\n",
       "3130  Avoidance of Antibiotic Treatment for Acute Br...          -1.0\n",
       "3131  Concurrent Use of Opioids and Benzodiazepines:...          -1.0\n",
       "3132     Controlling High Blood Pressure: Ages 18 to 85          -1.0\n",
       "3133  Hemoglobin A1c Control for Patients with Diabe...          -1.0\n",
       "3135  PQI 01: Diabetes Short-Term Complications Admi...          -1.0\n",
       "3136  PQI 05: Chronic Obstructive Pulmonary Disease ...          -1.0\n",
       "3137  PQI 08: Heart Failure Admission Rate: Age 18 a...          -1.0\n",
       "3138  PQI 15: Asthma in Younger Adults Admission Rat...          -1.0\n",
       "3139  Use of Opioids at High Dosage in Persons Witho...          -1.0\n",
       "3140  CAHPS Health Plan Survey 5.1H, Adult Version (...          -1.0\n",
       "3148  National Core Indicators Survey: Age 18 and Older          -1.0\n",
       "3151       Contraceptive Care - All Women Ages 21 to 44          -1.0\n",
       "3153  Contraceptive Care - Postpartum Women Ages 21 ...          -1.0\n",
       "3157      Prenatal and Postpartum Care: Postpartum Care          -1.0\n",
       "3158             Breast Cancer Screening: Ages 50 to 74          -1.0\n",
       "3159           Cervical Cancer Screening: Ages 21 to 64          -1.0\n",
       "3160         Chlamydia Screening in Women Ages 21 to 24          -1.0\n",
       "3161         Colorectal Cancer Screening: Ages 45 to 75          -1.0\n",
       "3163          Flu Vaccinations for Adults Ages 18 to 64          -1.0\n",
       "3206         Plan All-Cause Readmissions: Ages 18 to 64          -1.0"
      ]
     },
     "execution_count": 132,
     "metadata": {},
     "output_type": "execute_result"
    }
   ],
   "source": [
    "# Print a table of unique \"Measure Name\" values and corresponding \"Measure Type\" columns\n",
    "# Assign the value Lower rates are better for this measure to the variable lower_better\n",
    "lower_better = 'Lower rates are better for this measure'\n",
    "# Assign the value Higher rates are better for this measure to the variable higher_better\n",
    "higher_better = 'Higher rates are better for this measure'\n",
    "# Create a table of \"Measure Name\" values and corresponding \"Measure Type\" values\n",
    "df[['Measure Name', 'Measure Type']].drop_duplicates()"
   ]
  },
  {
   "cell_type": "markdown",
   "metadata": {},
   "source": [
    "## None of these results matched the data as shown in DW, which indicates the data should:\n",
    "* #### have two distinct values \n",
    "* #### be an object dtype\n",
    "\n",
    "### *I decided to start over and use copilot to help.*\n",
    "\n"
   ]
  },
  {
   "cell_type": "markdown",
   "metadata": {},
   "source": [
    "## This what Copilot instructed:"
   ]
  },
  {
   "cell_type": "markdown",
   "metadata": {},
   "source": [
    "### Debugging Column Name Mismatch\n",
    "\n",
    "The error occurs because the column name in your code uses an underscore (`Measure_Type`) while the actual column in your DataFrame likely has a space (`Measure Type`).\n",
    "\n",
    "Let's verify and fix this:\n",
    "\n"
   ]
  },
  {
   "cell_type": "code",
   "execution_count": 174,
   "metadata": {},
   "outputs": [
    {
     "name": "stdout",
     "output_type": "stream",
     "text": [
      "Index(['State', 'Domain', 'Reporting Program', 'Measure Name',\n",
      "       'Measure Abbreviation', 'Measure_Type', 'Rate Definition',\n",
      "       'Core Set Year', 'Population', 'Methodology', 'State_Rate',\n",
      "       'Number of States Reporting', 'Median', 'Bottom Quartile',\n",
      "       'Top Quartile', 'Notes', 'Source', 'State-Specific Comments',\n",
      "       'Rate Used in Calculating State Mean and Median'],\n",
      "      dtype='object')\n",
      "[-1.]\n"
     ]
    }
   ],
   "source": [
    "# First, check the actual column names in your DataFrame\n",
    "print(df.columns)\n",
    "\n",
    "# Then, use the correct column name with brackets\n",
    "print(df['Measure_Type'].unique())"
   ]
  },
  {
   "cell_type": "markdown",
   "metadata": {},
   "source": [
    "\n",
    "\n",
    "### Common Causes of Column Name Mismatches:\n",
    "1. **Spaces vs. Underscores**: DataFrame columns with spaces must use bracket notation\n",
    "2. **Case Sensitivity**: Python is case-sensitive, so `Type` ≠ `type`\n",
    "3. **Hidden Characters**: Sometimes invisible characters can affect column names\n",
    "\n",
    "### Best Practices:\n",
    "- Use bracket notation `df['Column Name']` for columns with spaces\n",
    "- Or rename columns to use underscores:\n"
   ]
  },
  {
   "cell_type": "code",
   "execution_count": 175,
   "metadata": {},
   "outputs": [
    {
     "name": "stdout",
     "output_type": "stream",
     "text": [
      "[-1.]\n"
     ]
    }
   ],
   "source": [
    "# Rename columns to use underscores\n",
    "df = df.rename(columns={'Measure Type': 'Measure_Type'})\n",
    "# Now you can use dot notation\n",
    "print(df.Measure_Type.unique())"
   ]
  },
  {
   "cell_type": "markdown",
   "metadata": {},
   "source": [
    "## Unfortunatly, the same problem occured. \n",
    "\n",
    "* #### I had already renamed the column with an underscore, so this solution did not affect the outcome. \n",
    "\n",
    "> ### I realized, at this point, that when I inserted the data frame \"head\" in the notebook (cell 150) for the second time that the values of the `Measure_Type` column all appear as **-1.0**, even though they are not in cell 5, nor in the DW tab.\n",
    "\n",
    "### I decided to reinsert my data entirely and reassign the variables,to see if it made a difference. My thought process was that perhaps I accidentally messed something up along the way, and the data became altered."
   ]
  },
  {
   "cell_type": "code",
   "execution_count": 186,
   "metadata": {},
   "outputs": [],
   "source": [
    "import pandas as pd  # Package to work with data\n",
    "\n",
    "import numpy as np  # Numerical analysis package"
   ]
  },
  {
   "cell_type": "code",
   "execution_count": 188,
   "metadata": {},
   "outputs": [],
   "source": [
    "# Import the file https://data.medicaid.gov/sites/default/files/uploaded_resources/2023-child-and-adult-health-care-quality-measures.csv and assign it to the variable df1\n",
    "df1 = pd.read_csv(\"https://data.medicaid.gov/sites/default/files/uploaded_resources/2023-child-and-adult-health-care-quality-measures.csv\")"
   ]
  },
  {
   "cell_type": "markdown",
   "metadata": {},
   "source": [
    "### A large issue before was that the dtype was incorrect for the column `Measure Type`"
   ]
  },
  {
   "cell_type": "code",
   "execution_count": 189,
   "metadata": {},
   "outputs": [
    {
     "data": {
      "text/plain": [
       "State                                              object\n",
       "Domain                                             object\n",
       "Reporting Program                                  object\n",
       "Measure Name                                       object\n",
       "Measure Abbreviation                               object\n",
       "Measure Type                                       object\n",
       "Rate Definition                                    object\n",
       "Core Set Year                                       int64\n",
       "Population                                         object\n",
       "Methodology                                        object\n",
       "State Rate                                         object\n",
       "Number of States Reporting                          int64\n",
       "Median                                            float64\n",
       "Bottom Quartile                                   float64\n",
       "Top Quartile                                      float64\n",
       "Notes                                              object\n",
       "Source                                             object\n",
       "State-Specific Comments                            object\n",
       "Rate Used in Calculating State Mean and Median     object\n",
       "dtype: object"
      ]
     },
     "execution_count": 189,
     "metadata": {},
     "output_type": "execute_result"
    }
   ],
   "source": [
    "# Print the type of df1\n",
    "df1.dtypes"
   ]
  },
  {
   "cell_type": "markdown",
   "metadata": {},
   "source": [
    "### The `Measure Type` column now correctly is associated as an object!\n",
    "\n",
    "### I'm now going to test to see if the values that should print actually do"
   ]
  },
  {
   "cell_type": "code",
   "execution_count": 191,
   "metadata": {},
   "outputs": [],
   "source": [
    "# Assign the Measure Type column in df1 to the variable mt_column\n",
    "mt_column = df1['Measure Type']"
   ]
  },
  {
   "cell_type": "code",
   "execution_count": 192,
   "metadata": {},
   "outputs": [
    {
     "name": "stdout",
     "output_type": "stream",
     "text": [
      "<class 'pandas.core.series.Series'>\n"
     ]
    }
   ],
   "source": [
    "# Print the type of mt_column\n",
    "print(type(mt_column))"
   ]
  },
  {
   "cell_type": "code",
   "execution_count": 201,
   "metadata": {},
   "outputs": [
    {
     "name": "stdout",
     "output_type": "stream",
     "text": [
      "['Higher rates are better for this measure'\n",
      " 'Lower rates are better for this measure']\n"
     ]
    }
   ],
   "source": [
    "# Print the unique values in the Measure Type column\n",
    "print(mt_column.unique())"
   ]
  },
  {
   "cell_type": "code",
   "execution_count": 195,
   "metadata": {},
   "outputs": [
    {
     "name": "stdout",
     "output_type": "stream",
     "text": [
      "0    Higher rates are better for this measure\n",
      "1    Higher rates are better for this measure\n",
      "2    Higher rates are better for this measure\n",
      "3    Higher rates are better for this measure\n",
      "4    Higher rates are better for this measure\n",
      "Name: Measure Type, dtype: object\n"
     ]
    }
   ],
   "source": [
    "# Print the first 5 rows of mt_column\n",
    "print(mt_column.head())"
   ]
  },
  {
   "cell_type": "markdown",
   "metadata": {},
   "source": [
    "I repeated the process with the `Measure Name` column as well"
   ]
  },
  {
   "cell_type": "code",
   "execution_count": 198,
   "metadata": {},
   "outputs": [],
   "source": [
    "# Assign the Measure Name column in df1 to the variable mn_column\n",
    "mn_column = df1[\"Measure Name\"]"
   ]
  },
  {
   "cell_type": "code",
   "execution_count": 199,
   "metadata": {},
   "outputs": [
    {
     "name": "stdout",
     "output_type": "stream",
     "text": [
      "<class 'pandas.core.series.Series'>\n"
     ]
    }
   ],
   "source": [
    "# Print the type of the mn_column variable\n",
    "print(type(mn_column))"
   ]
  },
  {
   "cell_type": "code",
   "execution_count": 200,
   "metadata": {},
   "outputs": [
    {
     "name": "stdout",
     "output_type": "stream",
     "text": [
      "['Follow-Up After Emergency Department Visit for Mental Illness: Ages 6 to 17'\n",
      " 'Follow-Up After Emergency Department Visit for Substance Use: Ages 13 to 17'\n",
      " 'Follow-Up After Hospitalization for Mental Illness: Ages 6 to 17'\n",
      " 'Follow-Up Care for Children Prescribed Attention-Deficit/Hyperactivity Disorder (ADHD) Medication: Ages 6 to 12'\n",
      " 'Metabolic Monitoring for Children and Adolescents on Antipsychotics: Ages 1 to 17'\n",
      " 'Use of First-Line Psychosocial Care for Children and Adolescents on Antipsychotics: Ages 1 to 17'\n",
      " 'Ambulatory Care: Emergency Department (ED) Visits: Ages 0 to 19'\n",
      " 'Asthma Medication Ratio: Ages 5 to 18'\n",
      " 'Avoidance of Antibiotic Treatment for Acute Bronchitis/Bronchiolitis: Ages 3 Months to 17 Years'\n",
      " 'Oral Evaluation, Dental Services: Ages <1 through 20'\n",
      " 'Sealant Receipt on Permanent First Molars: Age 10'\n",
      " 'Topical Fluoride for Children: Ages 1 through 20'\n",
      " 'CAHPS Health Plan Survey 5.1H - Child Version Including Medicaid and Children with Chronic Conditions Supplemental Items: Ages 0 to 17'\n",
      " 'Contraceptive Care - All Women Ages 15 to 20'\n",
      " 'Contraceptive Care - Postpartum Women Ages 15 to 20'\n",
      " 'Live Births Weighing Less Than 2,500 Grams' 'Low-Risk Cesarean Delivery'\n",
      " 'Prenatal and Postpartum Care: Timeliness of Prenatal Care'\n",
      " 'Child and Adolescent Well-Care Visits: Ages 3 to 21'\n",
      " 'Childhood Immunization Status: Age 2'\n",
      " 'Chlamydia Screening in Women Ages 16 to 20'\n",
      " 'Developmental Screening in the First Three Years of Life: Ages 0 to 3'\n",
      " 'Immunizations for Adolescents: Age 13'\n",
      " 'Lead Screening in Children: Age 2'\n",
      " 'Weight Assessment and Counseling for Nutrition and Physical Activity for Children/Adolescents: Ages 3 to 17'\n",
      " 'Well-Child Visits in the First 30 Months of Life'\n",
      " 'Adherence to Antipsychotic Medications for Individuals with Schizophrenia: Age 18 and Older'\n",
      " 'Antidepressant Medication Management: Age 18 and Older'\n",
      " 'Diabetes Screening for People with Schizophrenia or Bipolar Disorder Who Are Using Antipsychotic Medications: Ages 18 to 64'\n",
      " 'Follow-Up After Emergency Department Visit for Mental Illness: Age 18 and Older'\n",
      " 'Follow-Up After Emergency Department Visit for Substance Use: Age 18 and Older'\n",
      " 'Follow-Up After Hospitalization for Mental Illness: Age 18 and Older'\n",
      " 'Initiation and Engagement of Substance Use Disorder Treatment: Age 18 and Older'\n",
      " 'Medical Assistance With Smoking and Tobacco Use Cessation: Age 18 and Older'\n",
      " 'Use of Pharmacotherapy for Opioid Use Disorder: Ages 18 to 64'\n",
      " 'Asthma Medication Ratio: Ages 19 to 64'\n",
      " 'Avoidance of Antibiotic Treatment for Acute Bronchitis/Bronchiolitis: Age 18 and Older'\n",
      " 'Concurrent Use of Opioids and Benzodiazepines: Age 18 and Older'\n",
      " 'Controlling High Blood Pressure: Ages 18 to 85'\n",
      " 'Hemoglobin A1c Control for Patients with Diabetes: Ages 18 to 75'\n",
      " 'PQI 01: Diabetes Short-Term Complications Admission Rate: Age 18 and Older'\n",
      " 'PQI 05: Chronic Obstructive Pulmonary Disease (COPD) or Asthma in Older Adults Admission Rate: Age 40 and Older'\n",
      " 'PQI 08: Heart Failure Admission Rate: Age 18 and Older'\n",
      " 'PQI 15: Asthma in Younger Adults Admission Rate: Ages 18 to 39'\n",
      " 'Use of Opioids at High Dosage in Persons Without Cancer: Age 18 and Older'\n",
      " 'CAHPS Health Plan Survey 5.1H, Adult Version (Medicaid): Age 18 and Older'\n",
      " 'National Core Indicators Survey: Age 18 and Older'\n",
      " 'Contraceptive Care - All Women Ages 21 to 44'\n",
      " 'Contraceptive Care - Postpartum Women Ages 21 to 44'\n",
      " 'Prenatal and Postpartum Care: Postpartum Care'\n",
      " 'Breast Cancer Screening: Ages 50 to 74'\n",
      " 'Cervical Cancer Screening: Ages 21 to 64'\n",
      " 'Chlamydia Screening in Women Ages 21 to 24'\n",
      " 'Colorectal Cancer Screening: Ages 45 to 75'\n",
      " 'Flu Vaccinations for Adults Ages 18 to 64'\n",
      " 'Plan All-Cause Readmissions: Ages 18 to 64']\n"
     ]
    }
   ],
   "source": [
    "# Print the unique values in the mn_column\n",
    "print(mn_column.unique())"
   ]
  },
  {
   "cell_type": "code",
   "execution_count": 202,
   "metadata": {},
   "outputs": [
    {
     "name": "stdout",
     "output_type": "stream",
     "text": [
      "0    Follow-Up After Emergency Department Visit for...\n",
      "1    Follow-Up After Emergency Department Visit for...\n",
      "2    Follow-Up After Emergency Department Visit for...\n",
      "3    Follow-Up After Emergency Department Visit for...\n",
      "4    Follow-Up After Emergency Department Visit for...\n",
      "Name: Measure Name, dtype: object\n"
     ]
    }
   ],
   "source": [
    "# Print the first 5 rows of mn_column\n",
    "print(mn_column.head())"
   ]
  },
  {
   "cell_type": "markdown",
   "metadata": {},
   "source": [
    "## It worked!!\n",
    "\n",
    "### I will now be able to sort the values in the Measure Type and Measure Name columns. \n",
    "\n",
    "### Using this, I can effectivly analyze the effectiveness of medical treatments according to different metrics. "
   ]
  },
  {
   "cell_type": "markdown",
   "metadata": {},
   "source": [
    "# Quiz Questions"
   ]
  },
  {
   "cell_type": "markdown",
   "metadata": {},
   "source": [
    "#### Q: How do you import the pandas package in Python?\n"
   ]
  },
  {
   "cell_type": "code",
   "execution_count": null,
   "metadata": {},
   "outputs": [],
   "source": [
    "import pandas as pd"
   ]
  },
  {
   "cell_type": "markdown",
   "metadata": {},
   "source": [
    "\n",
    "\n",
    "#### Q: What function do you use to read a CSV file in pandas?\n"
   ]
  },
  {
   "cell_type": "code",
   "execution_count": null,
   "metadata": {},
   "outputs": [],
   "source": [
    "df = pd.read_csv('filename.csv')"
   ]
  },
  {
   "cell_type": "markdown",
   "metadata": {},
   "source": [
    "\n",
    "\n",
    "#### Q: How do you display the first 5 rows of a DataFrame in pandas?\n"
   ]
  },
  {
   "cell_type": "code",
   "execution_count": null,
   "metadata": {},
   "outputs": [],
   "source": [
    "df.head()"
   ]
  },
  {
   "cell_type": "markdown",
   "metadata": {},
   "source": [
    "\n",
    "\n",
    "#### Q: How do you calculate the mean of a column named Age in a DataFrame named df?\n"
   ]
  },
  {
   "cell_type": "code",
   "execution_count": null,
   "metadata": {},
   "outputs": [],
   "source": [
    "mean_age = df['Age'].mean()"
   ]
  },
  {
   "cell_type": "markdown",
   "metadata": {},
   "source": [
    "\n",
    "\n",
    "#### Q: How do you calculate the median of a column named Salary in a DataFrame named df?\n"
   ]
  },
  {
   "cell_type": "code",
   "execution_count": null,
   "metadata": {},
   "outputs": [],
   "source": [
    "median_salary = df['Salary'].median()"
   ]
  },
  {
   "cell_type": "markdown",
   "metadata": {},
   "source": [
    "\n",
    "\n",
    "#### Q: How do you calculate the standard deviation of a column named Score in a DataFrame named df?\n"
   ]
  },
  {
   "cell_type": "code",
   "execution_count": null,
   "metadata": {},
   "outputs": [],
   "source": [
    "score_std = df['Score'].std()"
   ]
  },
  {
   "cell_type": "markdown",
   "metadata": {},
   "source": [
    "\n",
    "\n",
    "#### Q: How do you find the number of missing values in each column of a DataFrame named df?\n"
   ]
  },
  {
   "cell_type": "code",
   "execution_count": null,
   "metadata": {},
   "outputs": [],
   "source": [
    "missing_values = df.isnull().sum()"
   ]
  },
  {
   "cell_type": "markdown",
   "metadata": {},
   "source": [
    "\n",
    "\n",
    "#### Q: How do you calculate the correlation between two columns, Age and Salary, in a DataFrame named df?\n"
   ]
  },
  {
   "cell_type": "code",
   "execution_count": null,
   "metadata": {},
   "outputs": [],
   "source": [
    "correlation = df['Age'].corr(df['Salary'])"
   ]
  },
  {
   "cell_type": "markdown",
   "metadata": {},
   "source": [
    "\n",
    "\n",
    "#### Q: How do you select a subset of a DataFrame df where the column Age is greater than 30?\n"
   ]
  },
  {
   "cell_type": "code",
   "execution_count": null,
   "metadata": {},
   "outputs": [],
   "source": [
    "filtered_df = df[df['Age'] > 30]"
   ]
  },
  {
   "cell_type": "markdown",
   "metadata": {},
   "source": [
    "\n",
    "\n",
    "#### Q: How do you calculate the range (maximum - minimum) of a column named Score in a DataFrame named df?\n"
   ]
  },
  {
   "cell_type": "code",
   "execution_count": null,
   "metadata": {},
   "outputs": [],
   "source": [
    "score_range = df['Score'].max() - df['Score'].min()"
   ]
  },
  {
   "cell_type": "markdown",
   "metadata": {},
   "source": [
    "\n",
    "\n",
    "#### Q: How do you group a DataFrame df by a column named Department and calculate the mean of Salary within each group?\n"
   ]
  },
  {
   "cell_type": "code",
   "execution_count": null,
   "metadata": {},
   "outputs": [],
   "source": [
    "dept_salary = df.groupby('Department')['Salary'].mean()"
   ]
  },
  {
   "cell_type": "markdown",
   "metadata": {},
   "source": [
    "\n",
    "\n",
    "#### Q: How do you group a DataFrame df by two columns, Department and Job Title, and count the number of rows within each group?\n"
   ]
  },
  {
   "cell_type": "code",
   "execution_count": null,
   "metadata": {},
   "outputs": [],
   "source": [
    "group_counts = df.groupby(['Department', 'Job Title']).size()"
   ]
  },
  {
   "cell_type": "markdown",
   "metadata": {},
   "source": [
    "\n",
    "\n",
    "#### Q: How do you use the groupby method to find the maximum Age in each Department in a DataFrame df?\n"
   ]
  },
  {
   "cell_type": "code",
   "execution_count": null,
   "metadata": {},
   "outputs": [],
   "source": [
    "max_age_dept = df.groupby('Department')['Age'].max()"
   ]
  },
  {
   "cell_type": "markdown",
   "metadata": {},
   "source": [
    "\n",
    "\n",
    "#### Q: How do you create a cross-tabulation table that shows the frequency count of Department (rows) and Job Title (columns)?\n"
   ]
  },
  {
   "cell_type": "code",
   "execution_count": null,
   "metadata": {},
   "outputs": [],
   "source": [
    "freq_table = pd.crosstab(df['Department'], df['Job Title'])"
   ]
  },
  {
   "cell_type": "markdown",
   "metadata": {},
   "source": [
    "\n",
    "\n",
    "#### Q: How do you create a cross-tabulation table that shows the mean Salary for each combination of Department and Job Title?\n"
   ]
  },
  {
   "cell_type": "code",
   "execution_count": null,
   "metadata": {},
   "outputs": [],
   "source": [
    "salary_table = pd.crosstab(df['Department'], \n",
    "                          df['Job Title'], \n",
    "                          values=df['Salary'], \n",
    "                          aggfunc='mean')"
   ]
  }
 ],
 "metadata": {
  "kernelspec": {
   "display_name": ".venv",
   "language": "python",
   "name": "python3"
  },
  "language_info": {
   "codemirror_mode": {
    "name": "ipython",
    "version": 3
   },
   "file_extension": ".py",
   "mimetype": "text/x-python",
   "name": "python",
   "nbconvert_exporter": "python",
   "pygments_lexer": "ipython3",
   "version": "3.8.2"
  }
 },
 "nbformat": 4,
 "nbformat_minor": 2
}
