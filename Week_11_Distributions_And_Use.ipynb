{
 "cells": [
  {
   "cell_type": "markdown",
   "metadata": {},
   "source": [
    "# Week 11 - INTRODUCTION TO DISTRIBUTIONS AND THEIR USE"
   ]
  },
  {
   "cell_type": "markdown",
   "metadata": {},
   "source": [
    "## Emma Wasserman"
   ]
  },
  {
   "cell_type": "markdown",
   "metadata": {},
   "source": [
    "> ## Notes:\n",
    "* Levels of measurement \n",
    "    * Categorical (Nominal [no natural order] vs Ordinal)\n",
    "    * Numerical (Interval [no true zero, such as temp] vs Ratio-type [such as mass])\n",
    "* Random variables (function that assigned a number to the outcome to some action)\n",
    "    * Discrete random variable, can take on countable # of values; usually categorical (what is probability that K = _ out of 5 yes/no questions)\n",
    "    * Continuous random variable, can take on  uncountable number of values (weight of patients) \n",
    "* Until something is measured, it is known as \"X\" --> this is a number with a probability attached to it\n",
    "    * Once a measurement is taken, it becomes xsub1 (k)\n",
    "    * For continuous, then can only talk about probability of X between intervals; P(a<X<b)\n",
    "    * For discrete, measure probability (K=k)\n",
    "* Vibe coding\n",
    "* Proportion = Probability = Risk"
   ]
  },
  {
   "cell_type": "markdown",
   "metadata": {},
   "source": [
    "## Data Prep for Quiz Questions"
   ]
  },
  {
   "cell_type": "code",
   "execution_count": 22,
   "metadata": {},
   "outputs": [],
   "source": [
    "import numpy as np"
   ]
  },
  {
   "cell_type": "code",
   "execution_count": 36,
   "metadata": {},
   "outputs": [],
   "source": [
    "# Seed the random number generator with a known value\n",
    "np.random.seed(28)\n",
    "\n",
    "# Create a empty list named \"results\" to store the results\n",
    "results = []\n",
    "\n",
    "# Create a for loop to roll the dice 1000 times\n",
    "for _ in range(1000):\n",
    "    results.append(np.random.randint(1, 7) + np.random.randint(1, 7))"
   ]
  },
  {
   "cell_type": "code",
   "execution_count": 38,
   "metadata": {},
   "outputs": [],
   "source": [
    "# Convert the numpy array to a pandas DataFrame\n",
    "results = pd.DataFrame(results, columns=['Value'])"
   ]
  },
  {
   "cell_type": "code",
   "execution_count": 39,
   "metadata": {},
   "outputs": [
    {
     "name": "stdout",
     "output_type": "stream",
     "text": [
      "       count\n",
      "Value       \n",
      "2         24\n",
      "3         39\n",
      "4         93\n",
      "5        108\n",
      "6        121\n",
      "7        183\n",
      "8        152\n",
      "9        105\n",
      "10       103\n",
      "11        53\n",
      "12        19\n"
     ]
    }
   ],
   "source": [
    "# Create a DataFrame object from the value counts and sort the index\n",
    "value_counts = pd.DataFrame(results['Value'].value_counts()).sort_index()\n",
    "\n",
    "# Print the series object to the screen\n",
    "print(value_counts)"
   ]
  },
  {
   "cell_type": "markdown",
   "metadata": {},
   "source": [
    "## Quiz Questions\n"
   ]
  },
  {
   "cell_type": "code",
   "execution_count": 41,
   "metadata": {},
   "outputs": [],
   "source": [
    "# Seed the pseudo-random number generator\n",
    "np.random.seed(28)\n",
    "\n",
    "# Create an array of random values from a normal distribution with a mean of 85 and a standard deviation of 10 and assign it to the variable dBP\n",
    "dBP = np.random.normal(85, 10, 100000)"
   ]
  },
  {
   "cell_type": "code",
   "execution_count": 42,
   "metadata": {},
   "outputs": [
    {
     "data": {
      "text/plain": [
       "84.95549142317857"
      ]
     },
     "execution_count": 42,
     "metadata": {},
     "output_type": "execute_result"
    }
   ],
   "source": [
    "# Calculate the population mean\n",
    "dBP.mean()"
   ]
  },
  {
   "cell_type": "markdown",
   "metadata": {},
   "source": [
    "> ### Use the random seed value of 12 through to answer the following questions or perform the indicated tasks."
   ]
  },
  {
   "cell_type": "code",
   "execution_count": 43,
   "metadata": {},
   "outputs": [],
   "source": [
    "import numpy as np\n",
    "import pandas as pd\n",
    "np.random.seed(12)"
   ]
  },
  {
   "cell_type": "code",
   "execution_count": 48,
   "metadata": {},
   "outputs": [],
   "source": [
    "# Seed the pseudo-random number generator\n",
    "np.random.seed(12)\n",
    "\n",
    "# Select a random sample of 40 values from the population and assign it to the variable sample\n",
    "sample = np.random.choice(dBP, 40, replace=False)"
   ]
  },
  {
   "cell_type": "code",
   "execution_count": 54,
   "metadata": {},
   "outputs": [
    {
     "name": "stdout",
     "output_type": "stream",
     "text": [
      "85.18752155840876\n"
     ]
    }
   ],
   "source": [
    "# Calculate the sample mean\n",
    "sample_mean = sample.mean()\n",
    "print(sample_mean)\n"
   ]
  },
  {
   "cell_type": "code",
   "execution_count": 55,
   "metadata": {},
   "outputs": [
    {
     "name": "stdout",
     "output_type": "stream",
     "text": [
      "9.506709112633699\n"
     ]
    }
   ],
   "source": [
    "# calculate the sample standard deviation\n",
    "sample_std = sample.std()\n",
    "print(sample_std)"
   ]
  },
  {
   "cell_type": "code",
   "execution_count": 56,
   "metadata": {},
   "outputs": [
    {
     "name": "stdout",
     "output_type": "stream",
     "text": [
      "1.503142692430035\n"
     ]
    }
   ],
   "source": [
    "# calculate the standard error of the sample\n",
    "standard_error = sample_std / np.sqrt(len(sample))\n",
    "print(standard_error)"
   ]
  },
  {
   "cell_type": "code",
   "execution_count": 63,
   "metadata": {},
   "outputs": [
    {
     "name": "stdout",
     "output_type": "stream",
     "text": [
      "1.96\n",
      "(82.2413618812459, 88.13368123557163)\n"
     ]
    }
   ],
   "source": [
    "# calculate the confidence coefficient for 95% confidence level and assign it to the variable c\n",
    "c = 1.96\n",
    "print(c)\n",
    "# calculate the confidence interval\n",
    "confidence_interval = (sample_mean - c * standard_error, sample_mean + c * standard_error)\n",
    "print(confidence_interval)\n"
   ]
  },
  {
   "cell_type": "code",
   "execution_count": 64,
   "metadata": {},
   "outputs": [
    {
     "name": "stdout",
     "output_type": "stream",
     "text": [
      "82.2413618812459\n"
     ]
    }
   ],
   "source": [
    "# calculate lower bound of the confidence interval for the sample mean\n",
    "z_score = 1.96\n",
    "# calculate the lower bound of the confidence interval\n",
    "lower_bound = sample_mean - z_score * standard_error\n",
    "print(lower_bound)"
   ]
  },
  {
   "cell_type": "code",
   "execution_count": 66,
   "metadata": {},
   "outputs": [
    {
     "name": "stdout",
     "output_type": "stream",
     "text": [
      "88.13368123557163\n"
     ]
    }
   ],
   "source": [
    "# calculate upper bound of the confidence interval for the sample mean\n",
    "# calculate the upper bound of the confidence interval\n",
    "upper_bound = sample_mean + z_score * standard_error\n",
    "print(upper_bound)"
   ]
  },
  {
   "cell_type": "markdown",
   "metadata": {},
   "source": [
    "\n",
    "\n",
    "#### Bootstrap Analysis\n",
    "* Create bootstrapped means array\n"
   ]
  },
  {
   "cell_type": "code",
   "execution_count": 77,
   "metadata": {},
   "outputs": [],
   "source": [
    "bootstrapped_means = np.array([\n",
    "    np.mean(np.random.choice(sample, size=40, replace=True))\n",
    "    for _ in range(1000)\n",
    "])\n",
    "# sort the values in the array in accending order\n",
    "bootstrapped_means.sort()\n"
   ]
  },
  {
   "cell_type": "code",
   "execution_count": 78,
   "metadata": {},
   "outputs": [
    {
     "name": "stdout",
     "output_type": "stream",
     "text": [
      "82.21567053777306\n"
     ]
    }
   ],
   "source": [
    "# Display the 25th value\n",
    "lower_bound = bootstrapped_means[25]\n",
    "print(lower_bound)"
   ]
  },
  {
   "cell_type": "code",
   "execution_count": 79,
   "metadata": {},
   "outputs": [
    {
     "name": "stdout",
     "output_type": "stream",
     "text": [
      "88.20199657723585\n"
     ]
    }
   ],
   "source": [
    "# Display the 975th value\n",
    "upper_bound = bootstrapped_means[975]\n",
    "print(upper_bound)"
   ]
  },
  {
   "cell_type": "markdown",
   "metadata": {},
   "source": [
    "\n",
    "\n",
    "### Note:\n",
    "* All calculations use numpy for efficiency\n",
    "* Bootstrap uses replacement sampling\n",
    "* Confidence intervals use t-distribution\n",
    "* Results are reproducible due to fixed seed"
   ]
  }
 ],
 "metadata": {
  "kernelspec": {
   "display_name": ".venv",
   "language": "python",
   "name": "python3"
  },
  "language_info": {
   "codemirror_mode": {
    "name": "ipython",
    "version": 3
   },
   "file_extension": ".py",
   "mimetype": "text/x-python",
   "name": "python",
   "nbconvert_exporter": "python",
   "pygments_lexer": "ipython3",
   "version": "3.8.2"
  }
 },
 "nbformat": 4,
 "nbformat_minor": 2
}
